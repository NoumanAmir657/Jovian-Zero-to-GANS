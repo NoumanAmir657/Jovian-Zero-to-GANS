{
  "nbformat": 4,
  "nbformat_minor": 0,
  "metadata": {
    "colab": {
      "name": "logistic-regression-code.ipynb",
      "provenance": []
    },
    "kernelspec": {
      "display_name": "Python 3",
      "language": "python",
      "name": "python3"
    },
    "language_info": {
      "codemirror_mode": {
        "name": "ipython",
        "version": 3
      },
      "file_extension": ".py",
      "mimetype": "text/x-python",
      "name": "python",
      "nbconvert_exporter": "python",
      "pygments_lexer": "ipython3",
      "version": "3.7.6"
    }
  },
  "cells": [
    {
      "cell_type": "code",
      "metadata": {
        "id": "GKSqKtSm27h4"
      },
      "source": [
        "# Jovian Commit Essentials\n",
        "# Please retain and execute this cell without modifying the contents for `jovian.commit` to work\n",
        "!pip install jovian --upgrade -q\n",
        "import jovian\n",
        "jovian.set_project('logistic-regression-code')\n",
        "jovian.set_colab_id('1pwAs-9hpA-UdSXcz5P5Qg6Si1lrI2M-a')"
      ],
      "execution_count": null,
      "outputs": []
    },
    {
      "cell_type": "markdown",
      "metadata": {
        "id": "5ck68DWyRCHL"
      },
      "source": [
        "# logistic-regression-code\n",
        "\n",
        "Use the \"Run\" button to execute the code."
      ]
    },
    {
      "cell_type": "code",
      "metadata": {
        "id": "Eijme7uMRCHM"
      },
      "source": [
        "!pip install jovian --upgrade --quiet"
      ],
      "execution_count": null,
      "outputs": []
    },
    {
      "cell_type": "code",
      "metadata": {
        "id": "W-QSEDrfRCHO"
      },
      "source": [
        "import jovian"
      ],
      "execution_count": null,
      "outputs": []
    },
    {
      "cell_type": "code",
      "metadata": {
        "colab": {
          "base_uri": "https://localhost:8080/",
          "height": 157
        },
        "id": "5ZJueuAWRCHP",
        "outputId": "a6defc1f-a38f-49c3-93ad-91ef2a28100e"
      },
      "source": [
        "# Execute this to save new versions of the notebook\n",
        "jovian.commit(project=\"logistic-regression-code\")"
      ],
      "execution_count": null,
      "outputs": [
        {
          "output_type": "stream",
          "text": [
            "[jovian] Detected Colab notebook...\u001b[0m\n",
            "[jovian] Please enter your API key ( from https://jovian.ai/ ):\u001b[0m\n",
            "API KEY: ··········\n",
            "[jovian] Uploading colab notebook to Jovian...\u001b[0m\n",
            "[jovian] Capturing environment..\u001b[0m\n",
            "[jovian] Committed successfully! https://jovian.ai/noumanamir453/logistic-regression-code\u001b[0m\n"
          ],
          "name": "stdout"
        },
        {
          "output_type": "execute_result",
          "data": {
            "application/vnd.google.colaboratory.intrinsic+json": {
              "type": "string"
            },
            "text/plain": [
              "'https://jovian.ai/noumanamir453/logistic-regression-code'"
            ]
          },
          "metadata": {
            "tags": []
          },
          "execution_count": 11
        }
      ]
    },
    {
      "cell_type": "code",
      "metadata": {
        "id": "4dQSXpRPRCHQ"
      },
      "source": [
        "import torch\n",
        "import torchvision\n",
        "from torchvision.datasets import MNIST\n",
        "import torch.nn.functional as F\n",
        "import torch.nn as nn"
      ],
      "execution_count": null,
      "outputs": []
    },
    {
      "cell_type": "code",
      "metadata": {
        "id": "n1czVbQMRgRH"
      },
      "source": [
        "#Downloading dataset\n",
        "train_dataset = MNIST(root='data/', download=True)\n",
        "test_dataset = MNIST(root='data/', train=False)"
      ],
      "execution_count": null,
      "outputs": []
    },
    {
      "cell_type": "code",
      "metadata": {
        "id": "gEMYoslKS6N2"
      },
      "source": [
        "#Transform the MNIST data into tensors as Pytorch cannot process images\n",
        "import torchvision.transforms as transforms\n",
        "\n",
        "train_dataset = MNIST(root='data/', train = True, transform=transforms.ToTensor())"
      ],
      "execution_count": null,
      "outputs": []
    },
    {
      "cell_type": "code",
      "metadata": {
        "id": "_NJq-B04TuEw"
      },
      "source": [
        "#splitting of data into training an validation sets\n",
        "from torch.utils.data import random_split\n",
        "\n",
        "train_ds, val_ds = random_split(train_dataset, [50000,10000])"
      ],
      "execution_count": null,
      "outputs": []
    },
    {
      "cell_type": "code",
      "metadata": {
        "id": "Gz6Ly-WxWPwz"
      },
      "source": [
        "from torch.utils.data import DataLoader\n",
        "\n",
        "batch_size = 128\n",
        "\n",
        "train_loader = DataLoader(train_ds, batch_size, shuffle = True)\n",
        "val_loader = DataLoader(val_ds, batch_size)"
      ],
      "execution_count": null,
      "outputs": []
    },
    {
      "cell_type": "code",
      "metadata": {
        "id": "STIkgyi7uHxz"
      },
      "source": [
        "input_size = 28*28\n",
        "num_classes = 10"
      ],
      "execution_count": null,
      "outputs": []
    },
    {
      "cell_type": "code",
      "metadata": {
        "id": "qlm4f83TwFrV"
      },
      "source": [
        "def evaluate(model, val_loader):\n",
        "    outputs = [model.validation_step(batch) for batch in val_loader]\n",
        "    return model.validation_epoch_end(outputs)"
      ],
      "execution_count": null,
      "outputs": []
    },
    {
      "cell_type": "code",
      "metadata": {
        "id": "LzoD9VL1wP9_"
      },
      "source": [
        "def accuracy(outputs, labels):\n",
        "    _, preds = torch.max(outputs, dim=1)\n",
        "    return torch.tensor(torch.sum(preds == labels).item() / len(preds))"
      ],
      "execution_count": null,
      "outputs": []
    },
    {
      "cell_type": "code",
      "metadata": {
        "id": "Wpjs5eT6sxtY"
      },
      "source": [
        "class MnistModel(nn.Module):\n",
        "  def __init__(self):\n",
        "    super().__init__()\n",
        "    self.linear = nn.Linear(input_size, num_classes)\n",
        "\n",
        "  def forward(self, xb):\n",
        "    xb = xb.reshape(-1,784)\n",
        "    out = self.linear(xb)\n",
        "    return out\n",
        "\n",
        "  def training_step(self, batch):\n",
        "    images, labels = batch\n",
        "    out = self.forward(images)\n",
        "    loss = F.cross_entropy(out, labels)\n",
        "    return loss\n",
        "\n",
        "  def validation_step(self, batch):\n",
        "    images, labels = batch\n",
        "    out = self.forward(images)\n",
        "    loss = F.cross_entropy(out, labels)\n",
        "    acc = accuracy(out, labels)\n",
        "    return {'val_loss': loss, 'val_acc': acc}\n",
        "\n",
        "  def validation_epoch_end(self, outputs):\n",
        "      batch_losses = [x['val_loss'] for x in outputs]\n",
        "      epoch_loss = torch.stack(batch_losses).mean()   # Combine losses\n",
        "      batch_accs = [x['val_acc'] for x in outputs]\n",
        "      epoch_acc = torch.stack(batch_accs).mean()      # Combine accuracies\n",
        "      return {'val_loss': epoch_loss.item(), 'val_acc': epoch_acc.item()}\n",
        "    \n",
        "  def epoch_end(self, epoch, result):\n",
        "      print(\"Epoch [{}], val_loss: {:.4f}, val_acc: {:.4f}\".format(epoch, result['val_loss'], result['val_acc']))\n",
        "    \n",
        "model = MnistModel()\n",
        "\n",
        "  "
      ],
      "execution_count": null,
      "outputs": []
    },
    {
      "cell_type": "code",
      "metadata": {
        "id": "WWNld2soWxZw"
      },
      "source": [
        "def fit(epochs, lr, model, train_loader, val_loader, opt_func=torch.optim.SGD):\n",
        "  optimizer = opt_func(model.parameters(), lr)\n",
        "  history = []\n",
        "\n",
        "  for epoch in range(epochs):\n",
        "\n",
        "    #Training\n",
        "    for batch in train_loader:\n",
        "      loss = model.training_step(batch)\n",
        "      loss.backward()\n",
        "      optimizer.step()\n",
        "      optimizer.zero_grad()\n",
        "\n",
        "    #Validation\n",
        "    result = evaluate(model, val_loader)\n",
        "    model.epoch_end(epoch, result)\n",
        "    history.append(result)\n",
        "\n",
        "  return history"
      ],
      "execution_count": null,
      "outputs": []
    },
    {
      "cell_type": "code",
      "metadata": {
        "colab": {
          "base_uri": "https://localhost:8080/"
        },
        "id": "qmqQAmt4wS9A",
        "outputId": "75564ac0-f975-4d71-ce7a-8b6a0c9bc3ea"
      },
      "source": [
        "result0 = evaluate(model, val_loader)\n",
        "result0"
      ],
      "execution_count": null,
      "outputs": [
        {
          "output_type": "execute_result",
          "data": {
            "text/plain": [
              "{'val_acc': 0.7378362417221069, 'val_loss': 1.5731614828109741}"
            ]
          },
          "metadata": {
            "tags": []
          },
          "execution_count": 46
        }
      ]
    },
    {
      "cell_type": "code",
      "metadata": {
        "colab": {
          "base_uri": "https://localhost:8080/"
        },
        "id": "dbjromujxKud",
        "outputId": "3b1da418-ca7e-47ac-cb4b-fa7331ae681f"
      },
      "source": [
        "history1 = fit(5, 0.001, model, train_loader, val_loader)"
      ],
      "execution_count": null,
      "outputs": [
        {
          "output_type": "stream",
          "text": [
            "Epoch [0], val_loss: 1.3989, val_acc: 0.7658\n",
            "Epoch [1], val_loss: 1.2659, val_acc: 0.7836\n",
            "Epoch [2], val_loss: 1.1622, val_acc: 0.7999\n",
            "Epoch [3], val_loss: 1.0798, val_acc: 0.8112\n",
            "Epoch [4], val_loss: 1.0129, val_acc: 0.8179\n"
          ],
          "name": "stdout"
        }
      ]
    },
    {
      "cell_type": "code",
      "metadata": {
        "colab": {
          "base_uri": "https://localhost:8080/"
        },
        "id": "nc8B4Lmkx-l5",
        "outputId": "fd367401-ffed-45db-981c-daf1c7cb28dc"
      },
      "source": [
        "history2 = fit(5, 0.001, model, train_loader, val_loader)"
      ],
      "execution_count": null,
      "outputs": [
        {
          "output_type": "stream",
          "text": [
            "Epoch [0], val_loss: 0.9578, val_acc: 0.8238\n",
            "Epoch [1], val_loss: 0.9115, val_acc: 0.8284\n",
            "Epoch [2], val_loss: 0.8721, val_acc: 0.8343\n",
            "Epoch [3], val_loss: 0.8381, val_acc: 0.8383\n",
            "Epoch [4], val_loss: 0.8086, val_acc: 0.8422\n"
          ],
          "name": "stdout"
        }
      ]
    },
    {
      "cell_type": "code",
      "metadata": {
        "colab": {
          "base_uri": "https://localhost:8080/"
        },
        "id": "mzRFTLIDyRlt",
        "outputId": "e36850ff-5378-4325-8011-58cbd5127d16"
      },
      "source": [
        "history3 = fit(5, 0.001, model, train_loader, val_loader)"
      ],
      "execution_count": null,
      "outputs": [
        {
          "output_type": "stream",
          "text": [
            "Epoch [0], val_loss: 0.7826, val_acc: 0.8463\n",
            "Epoch [1], val_loss: 0.7596, val_acc: 0.8499\n",
            "Epoch [2], val_loss: 0.7390, val_acc: 0.8513\n",
            "Epoch [3], val_loss: 0.7204, val_acc: 0.8532\n",
            "Epoch [4], val_loss: 0.7037, val_acc: 0.8546\n"
          ],
          "name": "stdout"
        }
      ]
    },
    {
      "cell_type": "code",
      "metadata": {
        "colab": {
          "base_uri": "https://localhost:8080/"
        },
        "id": "aNJHFbBkyZnA",
        "outputId": "77c80197-6ba1-4d59-90ff-2dce6caa8ec7"
      },
      "source": [
        "history4 = fit(5, 0.001, model, train_loader, val_loader)"
      ],
      "execution_count": null,
      "outputs": [
        {
          "output_type": "stream",
          "text": [
            "Epoch [0], val_loss: 0.6884, val_acc: 0.8559\n",
            "Epoch [1], val_loss: 0.6745, val_acc: 0.8581\n",
            "Epoch [2], val_loss: 0.6617, val_acc: 0.8603\n",
            "Epoch [3], val_loss: 0.6499, val_acc: 0.8620\n",
            "Epoch [4], val_loss: 0.6390, val_acc: 0.8633\n"
          ],
          "name": "stdout"
        }
      ]
    },
    {
      "cell_type": "code",
      "metadata": {
        "colab": {
          "base_uri": "https://localhost:8080/"
        },
        "id": "lfvamELsyhju",
        "outputId": "86b8900c-0374-4aaf-b523-9e0cb14baf8e"
      },
      "source": [
        "history5 = fit(5, 0.001, model, train_loader, val_loader)"
      ],
      "execution_count": null,
      "outputs": [
        {
          "output_type": "stream",
          "text": [
            "Epoch [0], val_loss: 0.6288, val_acc: 0.8636\n",
            "Epoch [1], val_loss: 0.6194, val_acc: 0.8646\n",
            "Epoch [2], val_loss: 0.6106, val_acc: 0.8655\n",
            "Epoch [3], val_loss: 0.6023, val_acc: 0.8670\n",
            "Epoch [4], val_loss: 0.5946, val_acc: 0.8684\n"
          ],
          "name": "stdout"
        }
      ]
    },
    {
      "cell_type": "code",
      "metadata": {
        "colab": {
          "base_uri": "https://localhost:8080/"
        },
        "id": "2JDUDuKS2Jjm",
        "outputId": "d02fbe5d-f8cd-4437-f041-274c2c5254cb"
      },
      "source": [
        "history6 = fit(5, 0.001, model, train_loader, val_loader)"
      ],
      "execution_count": null,
      "outputs": [
        {
          "output_type": "stream",
          "text": [
            "Epoch [0], val_loss: 0.5873, val_acc: 0.8691\n",
            "Epoch [1], val_loss: 0.5803, val_acc: 0.8704\n",
            "Epoch [2], val_loss: 0.5738, val_acc: 0.8715\n",
            "Epoch [3], val_loss: 0.5677, val_acc: 0.8722\n",
            "Epoch [4], val_loss: 0.5618, val_acc: 0.8730\n"
          ],
          "name": "stdout"
        }
      ]
    },
    {
      "cell_type": "code",
      "metadata": {
        "colab": {
          "base_uri": "https://localhost:8080/"
        },
        "id": "jqVEEWGs6eQy",
        "outputId": "2a83b458-87be-40df-f5bd-957a8c52f13d"
      },
      "source": [
        "history7 = fit(5, 0.001, model, train_loader, val_loader)"
      ],
      "execution_count": null,
      "outputs": [
        {
          "output_type": "stream",
          "text": [
            "Epoch [0], val_loss: 0.5563, val_acc: 0.8741\n",
            "Epoch [1], val_loss: 0.5510, val_acc: 0.8742\n",
            "Epoch [2], val_loss: 0.5460, val_acc: 0.8748\n",
            "Epoch [3], val_loss: 0.5412, val_acc: 0.8754\n",
            "Epoch [4], val_loss: 0.5366, val_acc: 0.8757\n"
          ],
          "name": "stdout"
        }
      ]
    },
    {
      "cell_type": "code",
      "metadata": {
        "id": "al--IHFr0CsV"
      },
      "source": [
        "import matplotlib.pyplot as plt\n",
        "%matplotlib inline"
      ],
      "execution_count": null,
      "outputs": []
    },
    {
      "cell_type": "code",
      "metadata": {
        "colab": {
          "base_uri": "https://localhost:8080/",
          "height": 312
        },
        "id": "zoRxrn8bzHDh",
        "outputId": "c76b78a2-68e4-4f9b-a317-ba062f9de152"
      },
      "source": [
        "t_history = [result0] + history1 + history2 + history3 + history4 + history5 + history6 + history7\n",
        "accuracies = [result['val_acc'] for result in t_history]\n",
        "plt.plot(accuracies, '-x')\n",
        "plt.xlabel('epoch')\n",
        "plt.ylabel('accuracy')\n",
        "plt.title('Accuracy vs. No of epochs')"
      ],
      "execution_count": null,
      "outputs": [
        {
          "output_type": "execute_result",
          "data": {
            "text/plain": [
              "Text(0.5, 1.0, 'Accuracy vs. No of epochs')"
            ]
          },
          "metadata": {
            "tags": []
          },
          "execution_count": 54
        },
        {
          "output_type": "display_data",
          "data": {
            "image/png": "[encoded data removed]",
            "text/plain": [
              "<Figure size 432x288 with 1 Axes>"
            ]
          },
          "metadata": {
            "tags": [],
            "needs_background": "light"
          }
        }
      ]
    },
    {
      "cell_type": "code",
      "metadata": {
        "colab": {
          "base_uri": "https://localhost:8080/",
          "height": 103
        },
        "id": "g9qcjaq80-TU",
        "outputId": "206fd412-2078-4420-d744-cce385abb35f"
      },
      "source": [
        "# Execute this to save new versions of the notebook\n",
        "jovian.commit(project=\"logistic-regression-code\")"
      ],
      "execution_count": null,
      "outputs": [
        {
          "output_type": "stream",
          "text": [
            "[jovian] Detected Colab notebook...\u001b[0m\n",
            "[jovian] Uploading colab notebook to Jovian...\u001b[0m\n",
            "[jovian] Capturing environment..\u001b[0m\n",
            "[jovian] Committed successfully! https://jovian.ai/noumanamir453/logistic-regression-code\u001b[0m\n"
          ],
          "name": "stdout"
        },
        {
          "output_type": "execute_result",
          "data": {
            "application/vnd.google.colaboratory.intrinsic+json": {
              "type": "string"
            },
            "text/plain": [
              "'https://jovian.ai/noumanamir453/logistic-regression-code'"
            ]
          },
          "metadata": {
            "tags": []
          },
          "execution_count": 55
        }
      ]
    },
    {
      "cell_type": "code",
      "metadata": {
        "id": "mkeMzvxC5RNE"
      },
      "source": [
        "import torchvision.transforms as transforms\n",
        "\n",
        "test_dataset = MNIST(root='data/', train = False, transform=transforms.ToTensor())"
      ],
      "execution_count": null,
      "outputs": []
    },
    {
      "cell_type": "code",
      "metadata": {
        "id": "5xmHltoR5rGg"
      },
      "source": [
        "def predict_image(img, model):\n",
        "  xb = img.unsqueeze(0)\n",
        "  yb = model(xb)\n",
        "  _, preds = torch.max(yb, dim=1)\n",
        "  return preds[0].item()"
      ],
      "execution_count": null,
      "outputs": []
    },
    {
      "cell_type": "code",
      "metadata": {
        "colab": {
          "base_uri": "https://localhost:8080/"
        },
        "id": "HUpcEqpA6C-S",
        "outputId": "07c8a7e2-1a4e-45cf-c7e9-5fbf84d58089"
      },
      "source": [
        "img, label = test_dataset[0]\n",
        "print(\"Label:\", label, ', Predicted: ', predict_image(img, model))"
      ],
      "execution_count": null,
      "outputs": [
        {
          "output_type": "stream",
          "text": [
            "Label: 7 , Predicted:  7\n"
          ],
          "name": "stdout"
        }
      ]
    },
    {
      "cell_type": "code",
      "metadata": {
        "colab": {
          "base_uri": "https://localhost:8080/"
        },
        "id": "eiJSbCpA71CS",
        "outputId": "fd22fe54-3a01-415e-f934-dd2b26e25a77"
      },
      "source": [
        "img, label = test_dataset[10]\n",
        "print(\"Label:\", label, ', Predicted: ', predict_image(img, model))"
      ],
      "execution_count": null,
      "outputs": [
        {
          "output_type": "stream",
          "text": [
            "Label: 0 , Predicted:  0\n"
          ],
          "name": "stdout"
        }
      ]
    },
    {
      "cell_type": "code",
      "metadata": {
        "colab": {
          "base_uri": "https://localhost:8080/"
        },
        "id": "DiFqfTFq7-gd",
        "outputId": "0334b51c-b0d5-48df-c1fc-62737f8a4b47"
      },
      "source": [
        "img, label = test_dataset[193]\n",
        "print(\"Label:\", label, ', Predicted: ', predict_image(img, model))"
      ],
      "execution_count": null,
      "outputs": [
        {
          "output_type": "stream",
          "text": [
            "Label: 9 , Predicted:  4\n"
          ],
          "name": "stdout"
        }
      ]
    },
    {
      "cell_type": "code",
      "metadata": {
        "colab": {
          "base_uri": "https://localhost:8080/"
        },
        "id": "4CIWM1iQ8Gk3",
        "outputId": "5fee1636-d2d1-4804-8dce-012da330ee39"
      },
      "source": [
        "img, label = test_dataset[1839]\n",
        "print(\"Label:\", label, ', Predicted: ', predict_image(img, model))"
      ],
      "execution_count": null,
      "outputs": [
        {
          "output_type": "stream",
          "text": [
            "Label: 2 , Predicted:  8\n"
          ],
          "name": "stdout"
        }
      ]
    },
    {
      "cell_type": "code",
      "metadata": {
        "colab": {
          "base_uri": "https://localhost:8080/"
        },
        "id": "i0OJcP348RxW",
        "outputId": "38650a74-2b9d-4676-81c8-fea416745cbe"
      },
      "source": [
        "test_loader = DataLoader(test_dataset, batch_size=256)\n",
        "result = evaluate(model, test_loader)\n",
        "result"
      ],
      "execution_count": null,
      "outputs": [
        {
          "output_type": "execute_result",
          "data": {
            "text/plain": [
              "{'val_acc': 0.875195324420929, 'val_loss': 0.511316180229187}"
            ]
          },
          "metadata": {
            "tags": []
          },
          "execution_count": 60
        }
      ]
    },
    {
      "cell_type": "code",
      "metadata": {
        "id": "joGMxhGL8c8E"
      },
      "source": [
        "torch.save(model.state_dict(), 'mnist-logistic.pth')"
      ],
      "execution_count": null,
      "outputs": []
    },
    {
      "cell_type": "code",
      "metadata": {
        "colab": {
          "base_uri": "https://localhost:8080/"
        },
        "id": "shVEi2LQ8uf9",
        "outputId": "4c6cd440-b5b5-4056-a1fc-e8e60667aa1d"
      },
      "source": [
        "model2 = MnistModel()\n",
        "model2.load_state_dict(torch.load('mnist-logistic.pth'))\n",
        "model2.state_dict()"
      ],
      "execution_count": null,
      "outputs": [
        {
          "output_type": "execute_result",
          "data": {
            "text/plain": [
              "OrderedDict([('linear.weight',\n",
              "              tensor([[ 2.6015e-02, -3.3854e-02,  2.7149e-02,  ..., -1.9504e-02,\n",
              "                       -2.4578e-02, -2.3207e-03],\n",
              "                      [ 1.1724e-02,  1.9901e-02,  2.7741e-02,  ...,  3.4543e-03,\n",
              "                       -2.5316e-03, -1.1730e-02],\n",
              "                      [-3.2111e-02,  1.9816e-02,  7.6093e-03,  ...,  4.3608e-03,\n",
              "                       -1.5969e-02,  1.9107e-02],\n",
              "                      ...,\n",
              "                      [-2.9370e-02,  1.0816e-02,  3.6944e-04,  ..., -3.9445e-03,\n",
              "                       -2.4568e-02, -4.0554e-03],\n",
              "                      [ 1.3130e-02, -1.6421e-02, -1.7066e-02,  ...,  8.9169e-05,\n",
              "                        8.3852e-03, -2.2429e-02],\n",
              "                      [ 1.3987e-02,  3.2672e-02,  3.3547e-02,  ..., -2.7117e-02,\n",
              "                        2.1515e-02, -4.8434e-03]])),\n",
              "             ('linear.bias',\n",
              "              tensor([-0.0847,  0.1385, -0.0260, -0.0220,  0.0676,  0.0738,  0.0172,  0.0512,\n",
              "                      -0.1552, -0.0047]))])"
            ]
          },
          "metadata": {
            "tags": []
          },
          "execution_count": 63
        }
      ]
    },
    {
      "cell_type": "code",
      "metadata": {
        "colab": {
          "base_uri": "https://localhost:8080/"
        },
        "id": "ES3yaww68vlq",
        "outputId": "6bb328fd-c95f-4878-da4c-c46a600b79c7"
      },
      "source": [
        "test_loader = DataLoader(test_dataset, batch_size=256)\n",
        "result = evaluate(model2, test_loader)\n",
        "result"
      ],
      "execution_count": null,
      "outputs": [
        {
          "output_type": "execute_result",
          "data": {
            "text/plain": [
              "{'val_acc': 0.875195324420929, 'val_loss': 0.511316180229187}"
            ]
          },
          "metadata": {
            "tags": []
          },
          "execution_count": 64
        }
      ]
    }
  ]
}