{
 "cells": [
  {
   "cell_type": "markdown",
   "metadata": {
    "id": "_NARAu27qZKv"
   },
   "source": [
    "# cifar10-cnn-regularization\n",
    "\n",
    "Use the \"Run\" button to execute the code."
   ]
  },
  {
   "cell_type": "code",
   "execution_count": 4,
   "metadata": {
    "executionInfo": {
     "elapsed": 2469,
     "status": "ok",
     "timestamp": 1628009073981,
     "user": {
      "displayName": "Nouman Amir",
      "photoUrl": "https://lh3.googleusercontent.com/a-/AOh14Gg1u5BTmPQfs7QYt7jASEnXne4iwgmh8iuKK_IgzA=s64",
      "userId": "01914838424733888905"
     },
     "user_tz": -300
    },
    "id": "MLeVmwCGqZKw"
   },
   "outputs": [],
   "source": [
    "!pip install jovian --upgrade --quiet"
   ]
  },
  {
   "cell_type": "code",
   "execution_count": 5,
   "metadata": {
    "executionInfo": {
     "elapsed": 26,
     "status": "ok",
     "timestamp": 1628009073982,
     "user": {
      "displayName": "Nouman Amir",
      "photoUrl": "https://lh3.googleusercontent.com/a-/AOh14Gg1u5BTmPQfs7QYt7jASEnXne4iwgmh8iuKK_IgzA=s64",
      "userId": "01914838424733888905"
     },
     "user_tz": -300
    },
    "id": "ZSoexHKFqZKy"
   },
   "outputs": [],
   "source": [
    "import jovian"
   ]
  },
  {
   "cell_type": "code",
   "execution_count": 6,
   "metadata": {
    "colab": {
     "base_uri": "https://localhost:8080/",
     "height": 191
    },
    "executionInfo": {
     "elapsed": 28862,
     "status": "ok",
     "timestamp": 1628009102821,
     "user": {
      "displayName": "Nouman Amir",
      "photoUrl": "https://lh3.googleusercontent.com/a-/AOh14Gg1u5BTmPQfs7QYt7jASEnXne4iwgmh8iuKK_IgzA=s64",
      "userId": "01914838424733888905"
     },
     "user_tz": -300
    },
    "id": "Z53-2lDWqZKz",
    "outputId": "0c6c468e-2822-430d-c8a8-892f2d2229c5"
   },
   "outputs": [
    {
     "name": "stdout",
     "output_type": "stream",
     "text": [
      "[jovian] Detected Colab notebook...\u001b[0m\n",
      "[jovian] Please enter your API key ( from https://jovian.ai/ ):\u001b[0m\n",
      "API KEY: ··········\n"
     ]
    },
    {
     "name": "stderr",
     "output_type": "stream",
     "text": [
      "\u001b[31m[jovian] Error: The current API key is invalid or expired.\u001b[0m\n"
     ]
    },
    {
     "name": "stdout",
     "output_type": "stream",
     "text": [
      "[jovian] Please enter your API key ( from https://jovian.ai/ ):\u001b[0m\n",
      "API KEY: ··········\n",
      "[jovian] Uploading colab notebook to Jovian...\u001b[0m\n",
      "Committed successfully! https://jovian.ai/noumanamir453/cifar10-cnn-regularization\n"
     ]
    },
    {
     "data": {
      "application/vnd.google.colaboratory.intrinsic+json": {
       "type": "string"
      },
      "text/plain": [
       "'https://jovian.ai/noumanamir453/cifar10-cnn-regularization'"
      ]
     },
     "execution_count": 6,
     "metadata": {
      "tags": []
     },
     "output_type": "execute_result"
    }
   ],
   "source": [
    "# Execute this to save new versions of the notebook\n",
    "jovian.commit(project=\"cifar10-cnn-regularization\")"
   ]
  },
  {
   "cell_type": "markdown",
   "metadata": {
    "id": "ZEDHy0XtrXFE"
   },
   "source": [
    "# Importing Modules"
   ]
  },
  {
   "cell_type": "code",
   "execution_count": 7,
   "metadata": {
    "executionInfo": {
     "elapsed": 4062,
     "status": "ok",
     "timestamp": 1628009106871,
     "user": {
      "displayName": "Nouman Amir",
      "photoUrl": "https://lh3.googleusercontent.com/a-/AOh14Gg1u5BTmPQfs7QYt7jASEnXne4iwgmh8iuKK_IgzA=s64",
      "userId": "01914838424733888905"
     },
     "user_tz": -300
    },
    "id": "2PuiiXdsqZK0"
   },
   "outputs": [],
   "source": [
    "import os\n",
    "import torch\n",
    "import torchvision\n",
    "import tarfile\n",
    "import torch.nn as nn\n",
    "import numpy as np\n",
    "import torch.nn.functional as F\n",
    "from torchvision.datasets.utils import download_url\n",
    "from torchvision.datasets import ImageFolder\n",
    "from torch.utils.data import DataLoader\n",
    "import torchvision.transforms as tt\n",
    "from torch.utils.data import random_split\n",
    "from torchvision.utils import make_grid\n",
    "import matplotlib\n",
    "import matplotlib.pyplot as plt\n",
    "%matplotlib inline\n",
    "\n",
    "matplotlib.rcParams['figure.facecolor'] = '#ffffff'"
   ]
  },
  {
   "cell_type": "code",
   "execution_count": 8,
   "metadata": {
    "colab": {
     "base_uri": "https://localhost:8080/",
     "height": 137,
     "referenced_widgets": [
      "093f7270dcd94f4f819bedc50d4c3fbb",
      "374cd41d938a4affa2eb3048b75bd036",
      "ee93fa71a8f14ad0861d3b3c2235c373",
      "2f888572dcf142a0bf37c49cfd009bc9",
      "6e7946d04ba44ec2825df36e49720746",
      "20f2b18dceb541efbf334ccb26a67e24",
      "0274ce9260b742378213931f0b716b8b",
      "99b537ea28574a70b52787143dfd826c"
     ]
    },
    "executionInfo": {
     "elapsed": 19926,
     "status": "ok",
     "timestamp": 1628009126791,
     "user": {
      "displayName": "Nouman Amir",
      "photoUrl": "https://lh3.googleusercontent.com/a-/AOh14Gg1u5BTmPQfs7QYt7jASEnXne4iwgmh8iuKK_IgzA=s64",
      "userId": "01914838424733888905"
     },
     "user_tz": -300
    },
    "id": "-9bWLzG4rcU7",
    "outputId": "ab20c492-02e7-41bb-b0e3-5bc1e0b1fa23"
   },
   "outputs": [
    {
     "name": "stdout",
     "output_type": "stream",
     "text": [
      "Downloading https://s3.amazonaws.com/fast-ai-imageclas/cifar10.tgz to ./cifar10.tgz\n"
     ]
    },
    {
     "data": {
      "application/vnd.jupyter.widget-view+json": {
       "model_id": "093f7270dcd94f4f819bedc50d4c3fbb",
       "version_major": 2,
       "version_minor": 0
      },
      "text/plain": [
       "HBox(children=(FloatProgress(value=0.0, max=135107811.0), HTML(value='')))"
      ]
     },
     "metadata": {
      "tags": []
     },
     "output_type": "display_data"
    },
    {
     "name": "stdout",
     "output_type": "stream",
     "text": [
      "\n",
      "['train', 'test']\n",
      "['deer', 'horse', 'ship', 'automobile', 'dog', 'cat', 'bird', 'truck', 'airplane', 'frog']\n"
     ]
    }
   ],
   "source": [
    "from torchvision.datasets.utils import download_url\n",
    "\n",
    "\n",
    "# Dowload the dataset\n",
    "dataset_url = \"https://s3.amazonaws.com/fast-ai-imageclas/cifar10.tgz\"\n",
    "download_url(dataset_url, '.')\n",
    "\n",
    "# Extract from archive\n",
    "with tarfile.open('./cifar10.tgz', 'r:gz') as tar:\n",
    "    tar.extractall(path='./data')\n",
    "    \n",
    "# Look into the data directory\n",
    "data_dir = './data/cifar10'\n",
    "print(os.listdir(data_dir))\n",
    "classes = os.listdir(data_dir + \"/train\")\n",
    "print(classes)\n"
   ]
  },
  {
   "cell_type": "code",
   "execution_count": 9,
   "metadata": {
    "executionInfo": {
     "elapsed": 26,
     "status": "ok",
     "timestamp": 1628009126793,
     "user": {
      "displayName": "Nouman Amir",
      "photoUrl": "https://lh3.googleusercontent.com/a-/AOh14Gg1u5BTmPQfs7QYt7jASEnXne4iwgmh8iuKK_IgzA=s64",
      "userId": "01914838424733888905"
     },
     "user_tz": -300
    },
    "id": "zrEzR1Oxr6Lq"
   },
   "outputs": [],
   "source": [
    "# Data transforms (normalization & data augmentation)\n",
    "stats = ((0.4914, 0.4822, 0.4465), (0.2023, 0.1994, 0.2010))\n",
    "train_tfms = tt.Compose([tt.RandomCrop(32, padding=4, padding_mode='reflect'), \n",
    "                         tt.RandomHorizontalFlip(), \n",
    "                         # tt.RandomRotate\n",
    "                         # tt.RandomResizedCrop(256, scale=(0.5,0.9), ratio=(1, 1)), \n",
    "                         # tt.ColorJitter(brightness=0.1, contrast=0.1, saturation=0.1, hue=0.1),\n",
    "                         tt.ToTensor(), \n",
    "                         tt.Normalize(*stats,inplace=True)])\n",
    "valid_tfms = tt.Compose([tt.ToTensor(), tt.Normalize(*stats)])"
   ]
  },
  {
   "cell_type": "code",
   "execution_count": 10,
   "metadata": {
    "executionInfo": {
     "elapsed": 25,
     "status": "ok",
     "timestamp": 1628009126794,
     "user": {
      "displayName": "Nouman Amir",
      "photoUrl": "https://lh3.googleusercontent.com/a-/AOh14Gg1u5BTmPQfs7QYt7jASEnXne4iwgmh8iuKK_IgzA=s64",
      "userId": "01914838424733888905"
     },
     "user_tz": -300
    },
    "id": "oYORIidFsFYz"
   },
   "outputs": [],
   "source": [
    "# PyTorch datasets\n",
    "train_ds = ImageFolder(data_dir+'/train', train_tfms)\n",
    "valid_ds = ImageFolder(data_dir+'/test', valid_tfms)"
   ]
  },
  {
   "cell_type": "code",
   "execution_count": 11,
   "metadata": {
    "executionInfo": {
     "elapsed": 25,
     "status": "ok",
     "timestamp": 1628009126795,
     "user": {
      "displayName": "Nouman Amir",
      "photoUrl": "https://lh3.googleusercontent.com/a-/AOh14Gg1u5BTmPQfs7QYt7jASEnXne4iwgmh8iuKK_IgzA=s64",
      "userId": "01914838424733888905"
     },
     "user_tz": -300
    },
    "id": "BkOIZasb5XLk"
   },
   "outputs": [],
   "source": [
    "batch_size = 400"
   ]
  },
  {
   "cell_type": "code",
   "execution_count": 12,
   "metadata": {
    "colab": {
     "base_uri": "https://localhost:8080/"
    },
    "executionInfo": {
     "elapsed": 24,
     "status": "ok",
     "timestamp": 1628009126796,
     "user": {
      "displayName": "Nouman Amir",
      "photoUrl": "https://lh3.googleusercontent.com/a-/AOh14Gg1u5BTmPQfs7QYt7jASEnXne4iwgmh8iuKK_IgzA=s64",
      "userId": "01914838424733888905"
     },
     "user_tz": -300
    },
    "id": "8jpxqFIW5eF0",
    "outputId": "a4256641-17cd-4c26-8941-e71ebe77fcdd"
   },
   "outputs": [
    {
     "name": "stderr",
     "output_type": "stream",
     "text": [
      "/usr/local/lib/python3.7/dist-packages/torch/utils/data/dataloader.py:481: UserWarning: This DataLoader will create 3 worker processes in total. Our suggested max number of worker in current system is 2, which is smaller than what this DataLoader is going to create. Please be aware that excessive worker creation might get DataLoader running slow or even freeze, lower the worker number to avoid potential slowness/freeze if necessary.\n",
      "  cpuset_checked))\n"
     ]
    }
   ],
   "source": [
    "# PyTorch data loaders\n",
    "train_dl = DataLoader(train_ds, batch_size, shuffle=True, num_workers=3, pin_memory=True)\n",
    "valid_dl = DataLoader(valid_ds, batch_size*2, num_workers=3, pin_memory=True)"
   ]
  },
  {
   "cell_type": "markdown",
   "metadata": {
    "id": "bHCGUWcG5iUM"
   },
   "source": [
    "# Using a GPU"
   ]
  },
  {
   "cell_type": "code",
   "execution_count": 13,
   "metadata": {
    "executionInfo": {
     "elapsed": 22,
     "status": "ok",
     "timestamp": 1628009126797,
     "user": {
      "displayName": "Nouman Amir",
      "photoUrl": "https://lh3.googleusercontent.com/a-/AOh14Gg1u5BTmPQfs7QYt7jASEnXne4iwgmh8iuKK_IgzA=s64",
      "userId": "01914838424733888905"
     },
     "user_tz": -300
    },
    "id": "4D8hHR_85kYk"
   },
   "outputs": [],
   "source": [
    "def get_default_device():\n",
    "    \"\"\"Pick GPU if available, else CPU\"\"\"\n",
    "    if torch.cuda.is_available():\n",
    "        return torch.device('cuda')\n",
    "    else:\n",
    "        return torch.device('cpu')\n",
    "    \n",
    "def to_device(data, device):\n",
    "    \"\"\"Move tensor(s) to chosen device\"\"\"\n",
    "    if isinstance(data, (list,tuple)):\n",
    "        return [to_device(x, device) for x in data]\n",
    "    return data.to(device, non_blocking=True)\n",
    "\n",
    "class DeviceDataLoader():\n",
    "    \"\"\"Wrap a dataloader to move data to a device\"\"\"\n",
    "    def __init__(self, dl, device):\n",
    "        self.dl = dl\n",
    "        self.device = device\n",
    "        \n",
    "    def __iter__(self):\n",
    "        \"\"\"Yield a batch of data after moving it to device\"\"\"\n",
    "        for b in self.dl: \n",
    "            yield to_device(b, self.device)\n",
    "\n",
    "    def __len__(self):\n",
    "        \"\"\"Number of batches\"\"\"\n",
    "        return len(self.dl)"
   ]
  },
  {
   "cell_type": "code",
   "execution_count": 14,
   "metadata": {
    "colab": {
     "base_uri": "https://localhost:8080/"
    },
    "executionInfo": {
     "elapsed": 21,
     "status": "ok",
     "timestamp": 1628009126797,
     "user": {
      "displayName": "Nouman Amir",
      "photoUrl": "https://lh3.googleusercontent.com/a-/AOh14Gg1u5BTmPQfs7QYt7jASEnXne4iwgmh8iuKK_IgzA=s64",
      "userId": "01914838424733888905"
     },
     "user_tz": -300
    },
    "id": "NDvz9xtr5nSr",
    "outputId": "0a92ea1b-e357-4087-9685-11ca8186dc48"
   },
   "outputs": [
    {
     "data": {
      "text/plain": [
       "device(type='cuda')"
      ]
     },
     "execution_count": 14,
     "metadata": {
      "tags": []
     },
     "output_type": "execute_result"
    }
   ],
   "source": [
    "device = get_default_device()\n",
    "device"
   ]
  },
  {
   "cell_type": "code",
   "execution_count": 15,
   "metadata": {
    "executionInfo": {
     "elapsed": 418,
     "status": "ok",
     "timestamp": 1628009139128,
     "user": {
      "displayName": "Nouman Amir",
      "photoUrl": "https://lh3.googleusercontent.com/a-/AOh14Gg1u5BTmPQfs7QYt7jASEnXne4iwgmh8iuKK_IgzA=s64",
      "userId": "01914838424733888905"
     },
     "user_tz": -300
    },
    "id": "wnD2sZxA5-fk"
   },
   "outputs": [],
   "source": [
    "# Device DataLoaders\n",
    "train_dl = DeviceDataLoader(train_dl, device)\n",
    "valid_dl = DeviceDataLoader(valid_dl, device)"
   ]
  },
  {
   "cell_type": "code",
   "execution_count": 16,
   "metadata": {
    "executionInfo": {
     "elapsed": 401,
     "status": "ok",
     "timestamp": 1628009286167,
     "user": {
      "displayName": "Nouman Amir",
      "photoUrl": "https://lh3.googleusercontent.com/a-/AOh14Gg1u5BTmPQfs7QYt7jASEnXne4iwgmh8iuKK_IgzA=s64",
      "userId": "01914838424733888905"
     },
     "user_tz": -300
    },
    "id": "Y0hU8uG16GrC"
   },
   "outputs": [],
   "source": [
    "def accuracy(outputs, labels):\n",
    "    _, preds = torch.max(outputs, dim=1)\n",
    "    return torch.tensor(torch.sum(preds == labels).item() / len(preds))\n",
    "\n",
    "class ImageClassificationBase(nn.Module):\n",
    "    def training_step(self, batch):\n",
    "        images, labels = batch \n",
    "        out = self(images)                  # Generate predictions\n",
    "        loss = F.cross_entropy(out, labels) # Calculate loss\n",
    "        return loss\n",
    "    \n",
    "    def validation_step(self, batch):\n",
    "        images, labels = batch \n",
    "        out = self(images)                    # Generate predictions\n",
    "        loss = F.cross_entropy(out, labels)   # Calculate loss\n",
    "        acc = accuracy(out, labels)           # Calculate accuracy\n",
    "        return {'val_loss': loss.detach(), 'val_acc': acc}\n",
    "        \n",
    "    def validation_epoch_end(self, outputs):\n",
    "        batch_losses = [x['val_loss'] for x in outputs]\n",
    "        epoch_loss = torch.stack(batch_losses).mean()   # Combine losses\n",
    "        batch_accs = [x['val_acc'] for x in outputs]\n",
    "        epoch_acc = torch.stack(batch_accs).mean()      # Combine accuracies\n",
    "        return {'val_loss': epoch_loss.item(), 'val_acc': epoch_acc.item()}\n",
    "    \n",
    "    def epoch_end(self, epoch, result):\n",
    "        print(\"Epoch [{}], last_lr: {:.5f}, train_loss: {:.4f}, val_loss: {:.4f}, val_acc: {:.4f}\".format(\n",
    "            epoch, result['lrs'][-1], result['train_loss'], result['val_loss'], result['val_acc']))"
   ]
  },
  {
   "cell_type": "code",
   "execution_count": 17,
   "metadata": {
    "executionInfo": {
     "elapsed": 929,
     "status": "ok",
     "timestamp": 1628009300947,
     "user": {
      "displayName": "Nouman Amir",
      "photoUrl": "https://lh3.googleusercontent.com/a-/AOh14Gg1u5BTmPQfs7QYt7jASEnXne4iwgmh8iuKK_IgzA=s64",
      "userId": "01914838424733888905"
     },
     "user_tz": -300
    },
    "id": "tMKKIiK46lCE"
   },
   "outputs": [],
   "source": [
    "def conv_block(in_channels, out_channels, pool=False):\n",
    "    layers = [nn.Conv2d(in_channels, out_channels, kernel_size=3, padding=1), \n",
    "              nn.BatchNorm2d(out_channels), \n",
    "              nn.ReLU(inplace=True)]\n",
    "    if pool: layers.append(nn.MaxPool2d(2))\n",
    "    return nn.Sequential(*layers)\n",
    "\n",
    "class ResNet9(ImageClassificationBase):\n",
    "    def __init__(self, in_channels, num_classes):\n",
    "        super().__init__()\n",
    "        \n",
    "        self.conv1 = conv_block(in_channels, 64)\n",
    "        self.conv2 = conv_block(64, 128, pool=True)\n",
    "        self.res1 = nn.Sequential(conv_block(128, 128), conv_block(128, 128))\n",
    "        \n",
    "        self.conv3 = conv_block(128, 256, pool=True)\n",
    "        self.conv4 = conv_block(256, 512, pool=True)\n",
    "        self.res2 = nn.Sequential(conv_block(512, 512), conv_block(512, 512))\n",
    "        \n",
    "        self.classifier = nn.Sequential(nn.MaxPool2d(4), \n",
    "                                        nn.Flatten(), \n",
    "                                        nn.Dropout(0.2),\n",
    "                                        nn.Linear(512, num_classes))\n",
    "        \n",
    "    def forward(self, xb):\n",
    "        out = self.conv1(xb)\n",
    "        out = self.conv2(out)\n",
    "        out = self.res1(out) + out\n",
    "        out = self.conv3(out)\n",
    "        out = self.conv4(out)\n",
    "        out = self.res2(out) + out\n",
    "        out = self.classifier(out)\n",
    "        return out"
   ]
  },
  {
   "cell_type": "code",
   "execution_count": 18,
   "metadata": {
    "colab": {
     "base_uri": "https://localhost:8080/"
    },
    "executionInfo": {
     "elapsed": 12384,
     "status": "ok",
     "timestamp": 1628009323470,
     "user": {
      "displayName": "Nouman Amir",
      "photoUrl": "https://lh3.googleusercontent.com/a-/AOh14Gg1u5BTmPQfs7QYt7jASEnXne4iwgmh8iuKK_IgzA=s64",
      "userId": "01914838424733888905"
     },
     "user_tz": -300
    },
    "id": "e1YylTKF6o6K",
    "outputId": "3f66215a-42b9-47e6-e2e0-0557e3605b9e"
   },
   "outputs": [
    {
     "data": {
      "text/plain": [
       "ResNet9(\n",
       "  (conv1): Sequential(\n",
       "    (0): Conv2d(3, 64, kernel_size=(3, 3), stride=(1, 1), padding=(1, 1))\n",
       "    (1): BatchNorm2d(64, eps=1e-05, momentum=0.1, affine=True, track_running_stats=True)\n",
       "    (2): ReLU(inplace=True)\n",
       "  )\n",
       "  (conv2): Sequential(\n",
       "    (0): Conv2d(64, 128, kernel_size=(3, 3), stride=(1, 1), padding=(1, 1))\n",
       "    (1): BatchNorm2d(128, eps=1e-05, momentum=0.1, affine=True, track_running_stats=True)\n",
       "    (2): ReLU(inplace=True)\n",
       "    (3): MaxPool2d(kernel_size=2, stride=2, padding=0, dilation=1, ceil_mode=False)\n",
       "  )\n",
       "  (res1): Sequential(\n",
       "    (0): Sequential(\n",
       "      (0): Conv2d(128, 128, kernel_size=(3, 3), stride=(1, 1), padding=(1, 1))\n",
       "      (1): BatchNorm2d(128, eps=1e-05, momentum=0.1, affine=True, track_running_stats=True)\n",
       "      (2): ReLU(inplace=True)\n",
       "    )\n",
       "    (1): Sequential(\n",
       "      (0): Conv2d(128, 128, kernel_size=(3, 3), stride=(1, 1), padding=(1, 1))\n",
       "      (1): BatchNorm2d(128, eps=1e-05, momentum=0.1, affine=True, track_running_stats=True)\n",
       "      (2): ReLU(inplace=True)\n",
       "    )\n",
       "  )\n",
       "  (conv3): Sequential(\n",
       "    (0): Conv2d(128, 256, kernel_size=(3, 3), stride=(1, 1), padding=(1, 1))\n",
       "    (1): BatchNorm2d(256, eps=1e-05, momentum=0.1, affine=True, track_running_stats=True)\n",
       "    (2): ReLU(inplace=True)\n",
       "    (3): MaxPool2d(kernel_size=2, stride=2, padding=0, dilation=1, ceil_mode=False)\n",
       "  )\n",
       "  (conv4): Sequential(\n",
       "    (0): Conv2d(256, 512, kernel_size=(3, 3), stride=(1, 1), padding=(1, 1))\n",
       "    (1): BatchNorm2d(512, eps=1e-05, momentum=0.1, affine=True, track_running_stats=True)\n",
       "    (2): ReLU(inplace=True)\n",
       "    (3): MaxPool2d(kernel_size=2, stride=2, padding=0, dilation=1, ceil_mode=False)\n",
       "  )\n",
       "  (res2): Sequential(\n",
       "    (0): Sequential(\n",
       "      (0): Conv2d(512, 512, kernel_size=(3, 3), stride=(1, 1), padding=(1, 1))\n",
       "      (1): BatchNorm2d(512, eps=1e-05, momentum=0.1, affine=True, track_running_stats=True)\n",
       "      (2): ReLU(inplace=True)\n",
       "    )\n",
       "    (1): Sequential(\n",
       "      (0): Conv2d(512, 512, kernel_size=(3, 3), stride=(1, 1), padding=(1, 1))\n",
       "      (1): BatchNorm2d(512, eps=1e-05, momentum=0.1, affine=True, track_running_stats=True)\n",
       "      (2): ReLU(inplace=True)\n",
       "    )\n",
       "  )\n",
       "  (classifier): Sequential(\n",
       "    (0): MaxPool2d(kernel_size=4, stride=4, padding=0, dilation=1, ceil_mode=False)\n",
       "    (1): Flatten(start_dim=1, end_dim=-1)\n",
       "    (2): Dropout(p=0.2, inplace=False)\n",
       "    (3): Linear(in_features=512, out_features=10, bias=True)\n",
       "  )\n",
       ")"
      ]
     },
     "execution_count": 18,
     "metadata": {
      "tags": []
     },
     "output_type": "execute_result"
    }
   ],
   "source": [
    "model = to_device(ResNet9(3, 10), device)\n",
    "model"
   ]
  },
  {
   "cell_type": "markdown",
   "metadata": {
    "id": "XxOF3tmB7NhU"
   },
   "source": [
    "# Training the Model"
   ]
  },
  {
   "cell_type": "code",
   "execution_count": 19,
   "metadata": {
    "executionInfo": {
     "elapsed": 509,
     "status": "ok",
     "timestamp": 1628009483942,
     "user": {
      "displayName": "Nouman Amir",
      "photoUrl": "https://lh3.googleusercontent.com/a-/AOh14Gg1u5BTmPQfs7QYt7jASEnXne4iwgmh8iuKK_IgzA=s64",
      "userId": "01914838424733888905"
     },
     "user_tz": -300
    },
    "id": "k4ZTIISE7QM3"
   },
   "outputs": [],
   "source": [
    "@torch.no_grad()\n",
    "def evaluate(model, val_loader):\n",
    "    model.eval()\n",
    "    outputs = [model.validation_step(batch) for batch in val_loader]\n",
    "    return model.validation_epoch_end(outputs)\n",
    "\n",
    "def get_lr(optimizer):\n",
    "    for param_group in optimizer.param_groups:\n",
    "        return param_group['lr']\n",
    "\n",
    "def fit_one_cycle(epochs, max_lr, model, train_loader, val_loader, \n",
    "                  weight_decay=0, grad_clip=None, opt_func=torch.optim.SGD):\n",
    "    torch.cuda.empty_cache()\n",
    "    history = []\n",
    "    \n",
    "    # Set up cutom optimizer with weight decay\n",
    "    optimizer = opt_func(model.parameters(), max_lr, weight_decay=weight_decay)\n",
    "    # Set up one-cycle learning rate scheduler\n",
    "    sched = torch.optim.lr_scheduler.OneCycleLR(optimizer, max_lr, epochs=epochs, \n",
    "                                                steps_per_epoch=len(train_loader))\n",
    "    \n",
    "    for epoch in range(epochs):\n",
    "        # Training Phase \n",
    "        model.train()\n",
    "        train_losses = []\n",
    "        lrs = []\n",
    "        for batch in train_loader:\n",
    "            loss = model.training_step(batch)\n",
    "            train_losses.append(loss)\n",
    "            loss.backward()\n",
    "            \n",
    "            # Gradient clipping\n",
    "            if grad_clip: \n",
    "                nn.utils.clip_grad_value_(model.parameters(), grad_clip)\n",
    "            \n",
    "            optimizer.step()\n",
    "            optimizer.zero_grad()\n",
    "            \n",
    "            # Record & update learning rate\n",
    "            lrs.append(get_lr(optimizer))\n",
    "            sched.step()\n",
    "        \n",
    "        # Validation phase\n",
    "        result = evaluate(model, val_loader)\n",
    "        result['train_loss'] = torch.stack(train_losses).mean().item()\n",
    "        result['lrs'] = lrs\n",
    "        model.epoch_end(epoch, result)\n",
    "        history.append(result)\n",
    "    return history"
   ]
  },
  {
   "cell_type": "code",
   "execution_count": 20,
   "metadata": {
    "colab": {
     "base_uri": "https://localhost:8080/"
    },
    "executionInfo": {
     "elapsed": 4176,
     "status": "ok",
     "timestamp": 1628009500063,
     "user": {
      "displayName": "Nouman Amir",
      "photoUrl": "https://lh3.googleusercontent.com/a-/AOh14Gg1u5BTmPQfs7QYt7jASEnXne4iwgmh8iuKK_IgzA=s64",
      "userId": "01914838424733888905"
     },
     "user_tz": -300
    },
    "id": "yuFWoPfn7VeJ",
    "outputId": "45c48b05-9b82-4ef1-bad8-6983f1de5436"
   },
   "outputs": [
    {
     "name": "stderr",
     "output_type": "stream",
     "text": [
      "/usr/local/lib/python3.7/dist-packages/torch/utils/data/dataloader.py:481: UserWarning: This DataLoader will create 3 worker processes in total. Our suggested max number of worker in current system is 2, which is smaller than what this DataLoader is going to create. Please be aware that excessive worker creation might get DataLoader running slow or even freeze, lower the worker number to avoid potential slowness/freeze if necessary.\n",
      "  cpuset_checked))\n",
      "/usr/local/lib/python3.7/dist-packages/torch/nn/functional.py:718: UserWarning: Named tensors and all their associated APIs are an experimental feature and subject to change. Please do not use them for anything important until they are released as stable. (Triggered internally at  /pytorch/c10/core/TensorImpl.h:1156.)\n",
      "  return torch.max_pool2d(input, kernel_size, stride, padding, dilation, ceil_mode)\n"
     ]
    },
    {
     "data": {
      "text/plain": [
       "[{'val_acc': 0.10105769336223602, 'val_loss': 2.302708387374878}]"
      ]
     },
     "execution_count": 20,
     "metadata": {
      "tags": []
     },
     "output_type": "execute_result"
    }
   ],
   "source": [
    "history = [evaluate(model, valid_dl)]\n",
    "history"
   ]
  },
  {
   "cell_type": "code",
   "execution_count": 21,
   "metadata": {
    "executionInfo": {
     "elapsed": 366,
     "status": "ok",
     "timestamp": 1628009517047,
     "user": {
      "displayName": "Nouman Amir",
      "photoUrl": "https://lh3.googleusercontent.com/a-/AOh14Gg1u5BTmPQfs7QYt7jASEnXne4iwgmh8iuKK_IgzA=s64",
      "userId": "01914838424733888905"
     },
     "user_tz": -300
    },
    "id": "MfdVm63K7Zfy"
   },
   "outputs": [],
   "source": [
    "epochs = 8\n",
    "max_lr = 0.01\n",
    "grad_clip = 0.1\n",
    "weight_decay = 1e-4\n",
    "opt_func = torch.optim.Adam"
   ]
  },
  {
   "cell_type": "code",
   "execution_count": 22,
   "metadata": {
    "colab": {
     "base_uri": "https://localhost:8080/"
    },
    "executionInfo": {
     "elapsed": 255967,
     "status": "ok",
     "timestamp": 1628009783220,
     "user": {
      "displayName": "Nouman Amir",
      "photoUrl": "https://lh3.googleusercontent.com/a-/AOh14Gg1u5BTmPQfs7QYt7jASEnXne4iwgmh8iuKK_IgzA=s64",
      "userId": "01914838424733888905"
     },
     "user_tz": -300
    },
    "id": "glJVTKkv7dSG",
    "outputId": "cc8a75a0-9627-43f2-c7c2-34b1060fdb17"
   },
   "outputs": [
    {
     "name": "stderr",
     "output_type": "stream",
     "text": [
      "/usr/local/lib/python3.7/dist-packages/torch/utils/data/dataloader.py:481: UserWarning: This DataLoader will create 3 worker processes in total. Our suggested max number of worker in current system is 2, which is smaller than what this DataLoader is going to create. Please be aware that excessive worker creation might get DataLoader running slow or even freeze, lower the worker number to avoid potential slowness/freeze if necessary.\n",
      "  cpuset_checked))\n"
     ]
    },
    {
     "name": "stdout",
     "output_type": "stream",
     "text": [
      "Epoch [0], last_lr: 0.00393, train_loss: 1.5032, val_loss: 1.2562, val_acc: 0.5952\n",
      "Epoch [1], last_lr: 0.00935, train_loss: 1.1143, val_loss: 1.0948, val_acc: 0.6441\n",
      "Epoch [2], last_lr: 0.00972, train_loss: 0.8228, val_loss: 0.7026, val_acc: 0.7591\n",
      "Epoch [3], last_lr: 0.00812, train_loss: 0.6656, val_loss: 0.5737, val_acc: 0.8002\n",
      "Epoch [4], last_lr: 0.00556, train_loss: 0.5004, val_loss: 0.6600, val_acc: 0.7739\n",
      "Epoch [5], last_lr: 0.00283, train_loss: 0.4006, val_loss: 0.4047, val_acc: 0.8642\n",
      "Epoch [6], last_lr: 0.00077, train_loss: 0.2924, val_loss: 0.3026, val_acc: 0.8963\n",
      "Epoch [7], last_lr: 0.00000, train_loss: 0.2224, val_loss: 0.2791, val_acc: 0.9040\n",
      "CPU times: user 38.8 s, sys: 19.9 s, total: 58.7 s\n",
      "Wall time: 4min 15s\n"
     ]
    }
   ],
   "source": [
    "%%time\n",
    "history += fit_one_cycle(epochs, max_lr, model, train_dl, valid_dl, \n",
    "                             grad_clip=grad_clip, \n",
    "                             weight_decay=weight_decay, \n",
    "                             opt_func=opt_func)"
   ]
  },
  {
   "cell_type": "code",
   "execution_count": 23,
   "metadata": {
    "colab": {
     "base_uri": "https://localhost:8080/"
    },
    "executionInfo": {
     "elapsed": 509700,
     "status": "ok",
     "timestamp": 1628011210289,
     "user": {
      "displayName": "Nouman Amir",
      "photoUrl": "https://lh3.googleusercontent.com/a-/AOh14Gg1u5BTmPQfs7QYt7jASEnXne4iwgmh8iuKK_IgzA=s64",
      "userId": "01914838424733888905"
     },
     "user_tz": -300
    },
    "id": "xb3PkCGR_4y8",
    "outputId": "19802ec7-5fae-4670-bea2-ed862fb7d7cf"
   },
   "outputs": [
    {
     "name": "stderr",
     "output_type": "stream",
     "text": [
      "/usr/local/lib/python3.7/dist-packages/torch/utils/data/dataloader.py:481: UserWarning: This DataLoader will create 3 worker processes in total. Our suggested max number of worker in current system is 2, which is smaller than what this DataLoader is going to create. Please be aware that excessive worker creation might get DataLoader running slow or even freeze, lower the worker number to avoid potential slowness/freeze if necessary.\n",
      "  cpuset_checked))\n"
     ]
    },
    {
     "name": "stdout",
     "output_type": "stream",
     "text": [
      "Epoch [0], last_lr: 0.00138, train_loss: 0.2571, val_loss: 0.4046, val_acc: 0.8689\n",
      "Epoch [1], last_lr: 0.00394, train_loss: 0.3731, val_loss: 0.6794, val_acc: 0.7955\n",
      "Epoch [2], last_lr: 0.00703, train_loss: 0.5015, val_loss: 0.6895, val_acc: 0.7644\n",
      "Epoch [3], last_lr: 0.00935, train_loss: 0.5257, val_loss: 0.9172, val_acc: 0.7084\n",
      "Epoch [4], last_lr: 0.00999, train_loss: 0.5179, val_loss: 0.8631, val_acc: 0.7152\n",
      "Epoch [5], last_lr: 0.00972, train_loss: 0.4927, val_loss: 0.6537, val_acc: 0.7861\n",
      "Epoch [6], last_lr: 0.00908, train_loss: 0.4688, val_loss: 0.6208, val_acc: 0.7902\n",
      "Epoch [7], last_lr: 0.00812, train_loss: 0.4385, val_loss: 0.5168, val_acc: 0.8254\n",
      "Epoch [8], last_lr: 0.00691, train_loss: 0.4150, val_loss: 0.4778, val_acc: 0.8374\n",
      "Epoch [9], last_lr: 0.00556, train_loss: 0.3823, val_loss: 0.4629, val_acc: 0.8435\n",
      "Epoch [10], last_lr: 0.00416, train_loss: 0.3297, val_loss: 0.3578, val_acc: 0.8829\n",
      "Epoch [11], last_lr: 0.00283, train_loss: 0.2750, val_loss: 0.3219, val_acc: 0.8924\n",
      "Epoch [12], last_lr: 0.00167, train_loss: 0.2247, val_loss: 0.2975, val_acc: 0.8971\n",
      "Epoch [13], last_lr: 0.00077, train_loss: 0.1698, val_loss: 0.2677, val_acc: 0.9107\n",
      "Epoch [14], last_lr: 0.00020, train_loss: 0.1283, val_loss: 0.2488, val_acc: 0.9191\n",
      "Epoch [15], last_lr: 0.00000, train_loss: 0.1093, val_loss: 0.2462, val_acc: 0.9212\n",
      "CPU times: user 1min 21s, sys: 45.6 s, total: 2min 6s\n",
      "Wall time: 8min 29s\n"
     ]
    }
   ],
   "source": [
    "%%time\n",
    "history += fit_one_cycle(epochs+8, max_lr, model, train_dl, valid_dl, \n",
    "                             grad_clip=grad_clip, \n",
    "                             weight_decay=weight_decay, \n",
    "                             opt_func=opt_func)"
   ]
  },
  {
   "cell_type": "code",
   "execution_count": 24,
   "metadata": {
    "colab": {
     "base_uri": "https://localhost:8080/"
    },
    "executionInfo": {
     "elapsed": 629848,
     "status": "ok",
     "timestamp": 1628012078387,
     "user": {
      "displayName": "Nouman Amir",
      "photoUrl": "https://lh3.googleusercontent.com/a-/AOh14Gg1u5BTmPQfs7QYt7jASEnXne4iwgmh8iuKK_IgzA=s64",
      "userId": "01914838424733888905"
     },
     "user_tz": -300
    },
    "id": "zKWqqpjICtGq",
    "outputId": "56c627c0-3eab-48b5-9a6f-a63b946a04ee"
   },
   "outputs": [
    {
     "name": "stderr",
     "output_type": "stream",
     "text": [
      "/usr/local/lib/python3.7/dist-packages/torch/utils/data/dataloader.py:481: UserWarning: This DataLoader will create 3 worker processes in total. Our suggested max number of worker in current system is 2, which is smaller than what this DataLoader is going to create. Please be aware that excessive worker creation might get DataLoader running slow or even freeze, lower the worker number to avoid potential slowness/freeze if necessary.\n",
      "  cpuset_checked))\n"
     ]
    },
    {
     "name": "stdout",
     "output_type": "stream",
     "text": [
      "Epoch [0], last_lr: 0.00103, train_loss: 0.1180, val_loss: 0.2860, val_acc: 0.9124\n",
      "Epoch [1], last_lr: 0.00279, train_loss: 0.1581, val_loss: 0.4269, val_acc: 0.8739\n",
      "Epoch [2], last_lr: 0.00519, train_loss: 0.2639, val_loss: 0.4467, val_acc: 0.8460\n",
      "Epoch [3], last_lr: 0.00759, train_loss: 0.3652, val_loss: 0.5288, val_acc: 0.8290\n",
      "Epoch [4], last_lr: 0.00936, train_loss: 0.4044, val_loss: 0.5238, val_acc: 0.8225\n",
      "Epoch [5], last_lr: 0.01000, train_loss: 0.4158, val_loss: 0.6157, val_acc: 0.7892\n",
      "Epoch [6], last_lr: 0.00987, train_loss: 0.4173, val_loss: 0.5557, val_acc: 0.8086\n",
      "Epoch [7], last_lr: 0.00950, train_loss: 0.3980, val_loss: 0.5068, val_acc: 0.8290\n",
      "Epoch [8], last_lr: 0.00891, train_loss: 0.3905, val_loss: 0.5361, val_acc: 0.8263\n",
      "Epoch [9], last_lr: 0.00812, train_loss: 0.3680, val_loss: 0.4762, val_acc: 0.8478\n",
      "Epoch [10], last_lr: 0.00717, train_loss: 0.3504, val_loss: 0.4361, val_acc: 0.8591\n",
      "Epoch [11], last_lr: 0.00611, train_loss: 0.3251, val_loss: 0.5450, val_acc: 0.8244\n",
      "Epoch [12], last_lr: 0.00500, train_loss: 0.3022, val_loss: 0.3693, val_acc: 0.8771\n",
      "Epoch [13], last_lr: 0.00389, train_loss: 0.2688, val_loss: 0.3407, val_acc: 0.8843\n",
      "Epoch [14], last_lr: 0.00283, train_loss: 0.2256, val_loss: 0.3455, val_acc: 0.8862\n",
      "Epoch [15], last_lr: 0.00188, train_loss: 0.1923, val_loss: 0.2901, val_acc: 0.9061\n",
      "Epoch [16], last_lr: 0.00109, train_loss: 0.1576, val_loss: 0.2608, val_acc: 0.9180\n",
      "Epoch [17], last_lr: 0.00050, train_loss: 0.1228, val_loss: 0.2470, val_acc: 0.9213\n",
      "Epoch [18], last_lr: 0.00013, train_loss: 0.1013, val_loss: 0.2447, val_acc: 0.9238\n",
      "Epoch [19], last_lr: 0.00000, train_loss: 0.0953, val_loss: 0.2454, val_acc: 0.9232\n",
      "CPU times: user 1min 37s, sys: 53.1 s, total: 2min 30s\n",
      "Wall time: 10min 29s\n"
     ]
    }
   ],
   "source": [
    "%%time\n",
    "history += fit_one_cycle(epochs+12, max_lr, model, train_dl, valid_dl, \n",
    "                             grad_clip=grad_clip, \n",
    "                             weight_decay=weight_decay, \n",
    "                             opt_func=opt_func)"
   ]
  },
  {
   "cell_type": "code",
   "execution_count": 25,
   "metadata": {
    "executionInfo": {
     "elapsed": 378,
     "status": "ok",
     "timestamp": 1628012105494,
     "user": {
      "displayName": "Nouman Amir",
      "photoUrl": "https://lh3.googleusercontent.com/a-/AOh14Gg1u5BTmPQfs7QYt7jASEnXne4iwgmh8iuKK_IgzA=s64",
      "userId": "01914838424733888905"
     },
     "user_tz": -300
    },
    "id": "tyWwJn1iFUDg"
   },
   "outputs": [],
   "source": [
    "def plot_accuracies(history):\n",
    "    accuracies = [x['val_acc'] for x in history]\n",
    "    plt.plot(accuracies, '-x')\n",
    "    plt.xlabel('epoch')\n",
    "    plt.ylabel('accuracy')\n",
    "    plt.title('Accuracy vs. No. of epochs');"
   ]
  },
  {
   "cell_type": "code",
   "execution_count": 26,
   "metadata": {
    "colab": {
     "base_uri": "https://localhost:8080/",
     "height": 295
    },
    "executionInfo": {
     "elapsed": 676,
     "status": "ok",
     "timestamp": 1628012120924,
     "user": {
      "displayName": "Nouman Amir",
      "photoUrl": "https://lh3.googleusercontent.com/a-/AOh14Gg1u5BTmPQfs7QYt7jASEnXne4iwgmh8iuKK_IgzA=s64",
      "userId": "01914838424733888905"
     },
     "user_tz": -300
    },
    "id": "WAr4i6dEFXxo",
    "outputId": "ceca97b1-2244-45c7-ce9a-160e7dc8d717"
   },
   "outputs": [
    {
     "data": {
      "image/png": "[encoded data removed]",
      "text/plain": [
       "<Figure size 432x288 with 1 Axes>"
      ]
     },
     "metadata": {
      "tags": []
     },
     "output_type": "display_data"
    }
   ],
   "source": [
    "plot_accuracies(history)"
   ]
  },
  {
   "cell_type": "code",
   "execution_count": 27,
   "metadata": {
    "executionInfo": {
     "elapsed": 384,
     "status": "ok",
     "timestamp": 1628012136127,
     "user": {
      "displayName": "Nouman Amir",
      "photoUrl": "https://lh3.googleusercontent.com/a-/AOh14Gg1u5BTmPQfs7QYt7jASEnXne4iwgmh8iuKK_IgzA=s64",
      "userId": "01914838424733888905"
     },
     "user_tz": -300
    },
    "id": "jKpG1FjzFbXv"
   },
   "outputs": [],
   "source": [
    "def plot_losses(history):\n",
    "    train_losses = [x.get('train_loss') for x in history]\n",
    "    val_losses = [x['val_loss'] for x in history]\n",
    "    plt.plot(train_losses, '-bx')\n",
    "    plt.plot(val_losses, '-rx')\n",
    "    plt.xlabel('epoch')\n",
    "    plt.ylabel('loss')\n",
    "    plt.legend(['Training', 'Validation'])\n",
    "    plt.title('Loss vs. No. of epochs');"
   ]
  },
  {
   "cell_type": "code",
   "execution_count": 28,
   "metadata": {
    "colab": {
     "base_uri": "https://localhost:8080/",
     "height": 295
    },
    "executionInfo": {
     "elapsed": 478,
     "status": "ok",
     "timestamp": 1628012144603,
     "user": {
      "displayName": "Nouman Amir",
      "photoUrl": "https://lh3.googleusercontent.com/a-/AOh14Gg1u5BTmPQfs7QYt7jASEnXne4iwgmh8iuKK_IgzA=s64",
      "userId": "01914838424733888905"
     },
     "user_tz": -300
    },
    "id": "uFQ5IQ9zFcvH",
    "outputId": "da719318-bf4e-423e-819c-61f5ccd6d677"
   },
   "outputs": [
    {
     "data": {
      "image/png": "[encoded data removed]",
      "text/plain": [
       "<Figure size 432x288 with 1 Axes>"
      ]
     },
     "metadata": {
      "tags": []
     },
     "output_type": "display_data"
    }
   ],
   "source": [
    "plot_losses(history)"
   ]
  },
  {
   "cell_type": "code",
   "execution_count": 30,
   "metadata": {
    "executionInfo": {
     "elapsed": 366,
     "status": "ok",
     "timestamp": 1628012191687,
     "user": {
      "displayName": "Nouman Amir",
      "photoUrl": "https://lh3.googleusercontent.com/a-/AOh14Gg1u5BTmPQfs7QYt7jASEnXne4iwgmh8iuKK_IgzA=s64",
      "userId": "01914838424733888905"
     },
     "user_tz": -300
    },
    "id": "Yr0L4uIMFgaI"
   },
   "outputs": [],
   "source": [
    "def plot_lrs(history):\n",
    "    lrs = np.concatenate([x.get('lrs', []) for x in history])\n",
    "    plt.plot(lrs)\n",
    "    plt.xlabel('Batch no.')\n",
    "    plt.ylabel('Learning rate')\n",
    "    plt.title('Learning Rate vs. Batch no.');"
   ]
  },
  {
   "cell_type": "code",
   "execution_count": 31,
   "metadata": {
    "colab": {
     "base_uri": "https://localhost:8080/",
     "height": 295
    },
    "executionInfo": {
     "elapsed": 817,
     "status": "ok",
     "timestamp": 1628012193684,
     "user": {
      "displayName": "Nouman Amir",
      "photoUrl": "https://lh3.googleusercontent.com/a-/AOh14Gg1u5BTmPQfs7QYt7jASEnXne4iwgmh8iuKK_IgzA=s64",
      "userId": "01914838424733888905"
     },
     "user_tz": -300
    },
    "id": "5A-PLQftFmSI",
    "outputId": "a514b496-8320-43aa-dece-f45f06bae874"
   },
   "outputs": [
    {
     "data": {
      "image/png": "[encoded data removed]",
      "text/plain": [
       "<Figure size 432x288 with 1 Axes>"
      ]
     },
     "metadata": {
      "tags": []
     },
     "output_type": "display_data"
    }
   ],
   "source": [
    "plot_lrs(history)"
   ]
  },
  {
   "cell_type": "code",
   "execution_count": 32,
   "metadata": {
    "executionInfo": {
     "elapsed": 374,
     "status": "ok",
     "timestamp": 1628012246440,
     "user": {
      "displayName": "Nouman Amir",
      "photoUrl": "https://lh3.googleusercontent.com/a-/AOh14Gg1u5BTmPQfs7QYt7jASEnXne4iwgmh8iuKK_IgzA=s64",
      "userId": "01914838424733888905"
     },
     "user_tz": -300
    },
    "id": "IJqJZ-5vFuso"
   },
   "outputs": [],
   "source": [
    "def predict_image(img, model):\n",
    "    # Convert to a batch of 1\n",
    "    xb = to_device(img.unsqueeze(0), device)\n",
    "    # Get predictions from model\n",
    "    yb = model(xb)\n",
    "    # Pick index with highest probability\n",
    "    _, preds  = torch.max(yb, dim=1)\n",
    "    # Retrieve the class label\n",
    "    return train_ds.classes[preds[0].item()]"
   ]
  },
  {
   "cell_type": "code",
   "execution_count": 33,
   "metadata": {
    "colab": {
     "base_uri": "https://localhost:8080/",
     "height": 283
    },
    "executionInfo": {
     "elapsed": 420,
     "status": "ok",
     "timestamp": 1628012259350,
     "user": {
      "displayName": "Nouman Amir",
      "photoUrl": "https://lh3.googleusercontent.com/a-/AOh14Gg1u5BTmPQfs7QYt7jASEnXne4iwgmh8iuKK_IgzA=s64",
      "userId": "01914838424733888905"
     },
     "user_tz": -300
    },
    "id": "sQUMzM-tF3sw",
    "outputId": "cfa0ab37-4c0e-492c-e13f-13a17698ef24"
   },
   "outputs": [
    {
     "name": "stdout",
     "output_type": "stream",
     "text": [
      "Label: airplane , Predicted: airplane\n"
     ]
    },
    {
     "data": {
      "image/png": "[encoded data removed]",
      "text/plain": [
       "<Figure size 432x288 with 1 Axes>"
      ]
     },
     "metadata": {
      "tags": []
     },
     "output_type": "display_data"
    }
   ],
   "source": [
    "img, label = valid_ds[0]\n",
    "plt.imshow(img.permute(1, 2, 0).clamp(0, 1))\n",
    "print('Label:', train_ds.classes[label], ', Predicted:', predict_image(img, model))"
   ]
  },
  {
   "cell_type": "code",
   "execution_count": 34,
   "metadata": {
    "colab": {
     "base_uri": "https://localhost:8080/",
     "height": 300
    },
    "executionInfo": {
     "elapsed": 492,
     "status": "ok",
     "timestamp": 1628012289101,
     "user": {
      "displayName": "Nouman Amir",
      "photoUrl": "https://lh3.googleusercontent.com/a-/AOh14Gg1u5BTmPQfs7QYt7jASEnXne4iwgmh8iuKK_IgzA=s64",
      "userId": "01914838424733888905"
     },
     "user_tz": -300
    },
    "id": "s1ytQ1oFF8mE",
    "outputId": "f335ae49-6c42-43a0-847d-2e98abde4505"
   },
   "outputs": [
    {
     "name": "stderr",
     "output_type": "stream",
     "text": [
      "Clipping input data to the valid range for imshow with RGB data ([0..1] for floats or [0..255] for integers).\n"
     ]
    },
    {
     "name": "stdout",
     "output_type": "stream",
     "text": [
      "Label: automobile , Predicted: automobile\n"
     ]
    },
    {
     "data": {
      "image/png": "[encoded data removed]",
      "text/plain": [
       "<Figure size 432x288 with 1 Axes>"
      ]
     },
     "metadata": {
      "tags": []
     },
     "output_type": "display_data"
    }
   ],
   "source": [
    "img, label = valid_ds[1006]\n",
    "plt.imshow(img.permute(1, 2, 0))\n",
    "print('Label:', valid_ds.classes[label], ', Predicted:', predict_image(img, model))"
   ]
  },
  {
   "cell_type": "code",
   "execution_count": 35,
   "metadata": {
    "executionInfo": {
     "elapsed": 438,
     "status": "ok",
     "timestamp": 1628012304980,
     "user": {
      "displayName": "Nouman Amir",
      "photoUrl": "https://lh3.googleusercontent.com/a-/AOh14Gg1u5BTmPQfs7QYt7jASEnXne4iwgmh8iuKK_IgzA=s64",
      "userId": "01914838424733888905"
     },
     "user_tz": -300
    },
    "id": "2SqNYdsQGE3O"
   },
   "outputs": [],
   "source": [
    "torch.save(model.state_dict(), 'cifar10-resnet9.pth')"
   ]
  },
  {
   "cell_type": "code",
   "execution_count": 36,
   "metadata": {
    "executionInfo": {
     "elapsed": 2854,
     "status": "ok",
     "timestamp": 1628012319732,
     "user": {
      "displayName": "Nouman Amir",
      "photoUrl": "https://lh3.googleusercontent.com/a-/AOh14Gg1u5BTmPQfs7QYt7jASEnXne4iwgmh8iuKK_IgzA=s64",
      "userId": "01914838424733888905"
     },
     "user_tz": -300
    },
    "id": "3j_jTPwzGGIJ"
   },
   "outputs": [],
   "source": [
    "!pip install jovian --upgrade --quiet"
   ]
  },
  {
   "cell_type": "code",
   "execution_count": 37,
   "metadata": {
    "executionInfo": {
     "elapsed": 648,
     "status": "ok",
     "timestamp": 1628012338736,
     "user": {
      "displayName": "Nouman Amir",
      "photoUrl": "https://lh3.googleusercontent.com/a-/AOh14Gg1u5BTmPQfs7QYt7jASEnXne4iwgmh8iuKK_IgzA=s64",
      "userId": "01914838424733888905"
     },
     "user_tz": -300
    },
    "id": "Mjo8EkwwGH9v"
   },
   "outputs": [],
   "source": [
    "import jovian"
   ]
  },
  {
   "cell_type": "code",
   "execution_count": 38,
   "metadata": {
    "colab": {
     "base_uri": "https://localhost:8080/"
    },
    "executionInfo": {
     "elapsed": 382,
     "status": "ok",
     "timestamp": 1628012342863,
     "user": {
      "displayName": "Nouman Amir",
      "photoUrl": "https://lh3.googleusercontent.com/a-/AOh14Gg1u5BTmPQfs7QYt7jASEnXne4iwgmh8iuKK_IgzA=s64",
      "userId": "01914838424733888905"
     },
     "user_tz": -300
    },
    "id": "DOLrsU7qGOKg",
    "outputId": "9eb34d17-fdd0-4f21-f8d4-375ec19d7fd1"
   },
   "outputs": [
    {
     "name": "stdout",
     "output_type": "stream",
     "text": [
      "[jovian] Hyperparams logged.\u001b[0m\n"
     ]
    }
   ],
   "source": [
    "jovian.reset()\n",
    "jovian.log_hyperparams(arch='resnet9', \n",
    "                       epochs=epochs, \n",
    "                       lr=max_lr, \n",
    "                       scheduler='one-cycle', \n",
    "                       weight_decay=weight_decay, \n",
    "                       grad_clip=grad_clip,\n",
    "                       opt=opt_func.__name__)"
   ]
  },
  {
   "cell_type": "code",
   "execution_count": null,
   "metadata": {
    "id": "FZNvFc5tGPV8"
   },
   "outputs": [],
   "source": [
    "ovian.commit(project='c', environment=None, outputs=['cifar10-resnet9.pth'])"
   ]
  }
 ],
 "metadata": {
  "accelerator": "GPU",
  "colab": {
   "collapsed_sections": [],
   "name": "cifar10-cnn-regularization.ipynb",
   "provenance": []
  },
  "language_info": {
   "codemirror_mode": {
    "name": "ipython",
    "version": 3
   },
   "file_extension": ".py",
   "mimetype": "text/x-python",
   "name": "python",
   "nbconvert_exporter": "python",
   "pygments_lexer": "ipython3",
   "version": "3.7.6"
  },
  "widgets": {
   "application/vnd.jupyter.widget-state+json": {
    "0274ce9260b742378213931f0b716b8b": {
     "model_module": "@jupyter-widgets/controls",
     "model_name": "DescriptionStyleModel",
     "state": {
      "_model_module": "@jupyter-widgets/controls",
      "_model_module_version": "1.5.0",
      "_model_name": "DescriptionStyleModel",
      "_view_count": null,
      "_view_module": "@jupyter-widgets/base",
      "_view_module_version": "1.2.0",
      "_view_name": "StyleView",
      "description_width": ""
     }
    },
    "093f7270dcd94f4f819bedc50d4c3fbb": {
     "model_module": "@jupyter-widgets/controls",
     "model_name": "HBoxModel",
     "state": {
      "_dom_classes": [],
      "_model_module": "@jupyter-widgets/controls",
      "_model_module_version": "1.5.0",
      "_model_name": "HBoxModel",
      "_view_count": null,
      "_view_module": "@jupyter-widgets/controls",
      "_view_module_version": "1.5.0",
      "_view_name": "HBoxView",
      "box_style": "",
      "children": [
       "IPY_MODEL_ee93fa71a8f14ad0861d3b3c2235c373",
       "IPY_MODEL_2f888572dcf142a0bf37c49cfd009bc9"
      ],
      "layout": "IPY_MODEL_374cd41d938a4affa2eb3048b75bd036"
     }
    },
    "20f2b18dceb541efbf334ccb26a67e24": {
     "model_module": "@jupyter-widgets/base",
     "model_name": "LayoutModel",
     "state": {
      "_model_module": "@jupyter-widgets/base",
      "_model_module_version": "1.2.0",
      "_model_name": "LayoutModel",
      "_view_count": null,
      "_view_module": "@jupyter-widgets/base",
      "_view_module_version": "1.2.0",
      "_view_name": "LayoutView",
      "align_content": null,
      "align_items": null,
      "align_self": null,
      "border": null,
      "bottom": null,
      "display": null,
      "flex": null,
      "flex_flow": null,
      "grid_area": null,
      "grid_auto_columns": null,
      "grid_auto_flow": null,
      "grid_auto_rows": null,
      "grid_column": null,
      "grid_gap": null,
      "grid_row": null,
      "grid_template_areas": null,
      "grid_template_columns": null,
      "grid_template_rows": null,
      "height": null,
      "justify_content": null,
      "justify_items": null,
      "left": null,
      "margin": null,
      "max_height": null,
      "max_width": null,
      "min_height": null,
      "min_width": null,
      "object_fit": null,
      "object_position": null,
      "order": null,
      "overflow": null,
      "overflow_x": null,
      "overflow_y": null,
      "padding": null,
      "right": null,
      "top": null,
      "visibility": null,
      "width": null
     }
    },
    "2f888572dcf142a0bf37c49cfd009bc9": {
     "model_module": "@jupyter-widgets/controls",
     "model_name": "HTMLModel",
     "state": {
      "_dom_classes": [],
      "_model_module": "@jupyter-widgets/controls",
      "_model_module_version": "1.5.0",
      "_model_name": "HTMLModel",
      "_view_count": null,
      "_view_module": "@jupyter-widgets/controls",
      "_view_module_version": "1.5.0",
      "_view_name": "HTMLView",
      "description": "",
      "description_tooltip": null,
      "layout": "IPY_MODEL_99b537ea28574a70b52787143dfd826c",
      "placeholder": "​",
      "style": "IPY_MODEL_0274ce9260b742378213931f0b716b8b",
      "value": " 135108608/? [00:05&lt;00:00, 23561602.24it/s]"
     }
    },
    "374cd41d938a4affa2eb3048b75bd036": {
     "model_module": "@jupyter-widgets/base",
     "model_name": "LayoutModel",
     "state": {
      "_model_module": "@jupyter-widgets/base",
      "_model_module_version": "1.2.0",
      "_model_name": "LayoutModel",
      "_view_count": null,
      "_view_module": "@jupyter-widgets/base",
      "_view_module_version": "1.2.0",
      "_view_name": "LayoutView",
      "align_content": null,
      "align_items": null,
      "align_self": null,
      "border": null,
      "bottom": null,
      "display": null,
      "flex": null,
      "flex_flow": null,
      "grid_area": null,
      "grid_auto_columns": null,
      "grid_auto_flow": null,
      "grid_auto_rows": null,
      "grid_column": null,
      "grid_gap": null,
      "grid_row": null,
      "grid_template_areas": null,
      "grid_template_columns": null,
      "grid_template_rows": null,
      "height": null,
      "justify_content": null,
      "justify_items": null,
      "left": null,
      "margin": null,
      "max_height": null,
      "max_width": null,
      "min_height": null,
      "min_width": null,
      "object_fit": null,
      "object_position": null,
      "order": null,
      "overflow": null,
      "overflow_x": null,
      "overflow_y": null,
      "padding": null,
      "right": null,
      "top": null,
      "visibility": null,
      "width": null
     }
    },
    "6e7946d04ba44ec2825df36e49720746": {
     "model_module": "@jupyter-widgets/controls",
     "model_name": "ProgressStyleModel",
     "state": {
      "_model_module": "@jupyter-widgets/controls",
      "_model_module_version": "1.5.0",
      "_model_name": "ProgressStyleModel",
      "_view_count": null,
      "_view_module": "@jupyter-widgets/base",
      "_view_module_version": "1.2.0",
      "_view_name": "StyleView",
      "bar_color": null,
      "description_width": "initial"
     }
    },
    "99b537ea28574a70b52787143dfd826c": {
     "model_module": "@jupyter-widgets/base",
     "model_name": "LayoutModel",
     "state": {
      "_model_module": "@jupyter-widgets/base",
      "_model_module_version": "1.2.0",
      "_model_name": "LayoutModel",
      "_view_count": null,
      "_view_module": "@jupyter-widgets/base",
      "_view_module_version": "1.2.0",
      "_view_name": "LayoutView",
      "align_content": null,
      "align_items": null,
      "align_self": null,
      "border": null,
      "bottom": null,
      "display": null,
      "flex": null,
      "flex_flow": null,
      "grid_area": null,
      "grid_auto_columns": null,
      "grid_auto_flow": null,
      "grid_auto_rows": null,
      "grid_column": null,
      "grid_gap": null,
      "grid_row": null,
      "grid_template_areas": null,
      "grid_template_columns": null,
      "grid_template_rows": null,
      "height": null,
      "justify_content": null,
      "justify_items": null,
      "left": null,
      "margin": null,
      "max_height": null,
      "max_width": null,
      "min_height": null,
      "min_width": null,
      "object_fit": null,
      "object_position": null,
      "order": null,
      "overflow": null,
      "overflow_x": null,
      "overflow_y": null,
      "padding": null,
      "right": null,
      "top": null,
      "visibility": null,
      "width": null
     }
    },
    "ee93fa71a8f14ad0861d3b3c2235c373": {
     "model_module": "@jupyter-widgets/controls",
     "model_name": "FloatProgressModel",
     "state": {
      "_dom_classes": [],
      "_model_module": "@jupyter-widgets/controls",
      "_model_module_version": "1.5.0",
      "_model_name": "FloatProgressModel",
      "_view_count": null,
      "_view_module": "@jupyter-widgets/controls",
      "_view_module_version": "1.5.0",
      "_view_name": "ProgressView",
      "bar_style": "success",
      "description": "",
      "description_tooltip": null,
      "layout": "IPY_MODEL_20f2b18dceb541efbf334ccb26a67e24",
      "max": 135107811,
      "min": 0,
      "orientation": "horizontal",
      "style": "IPY_MODEL_6e7946d04ba44ec2825df36e49720746",
      "value": 135107811
     }
    }
   }
  }
 },
 "nbformat": 4,
 "nbformat_minor": 0
}