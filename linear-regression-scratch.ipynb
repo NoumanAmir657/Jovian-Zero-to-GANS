{
 "cells": [
  {
   "cell_type": "markdown",
   "metadata": {
    "id": "TGuAWzAkhDwd"
   },
   "source": [
    "# linear-regression-scratch\n",
    "\n",
    "Use the \"Run\" button to execute the code."
   ]
  },
  {
   "cell_type": "code",
   "execution_count": 2,
   "metadata": {
    "executionInfo": {
     "elapsed": 4502,
     "status": "ok",
     "timestamp": 1626274962312,
     "user": {
      "displayName": "Nouman Amir",
      "photoUrl": "https://lh3.googleusercontent.com/a-/AOh14Gg1u5BTmPQfs7QYt7jASEnXne4iwgmh8iuKK_IgzA=s64",
      "userId": "01914838424733888905"
     },
     "user_tz": -300
    },
    "id": "1v2aAeZMhDwe"
   },
   "outputs": [],
   "source": [
    "!pip install jovian --upgrade --quiet"
   ]
  },
  {
   "cell_type": "code",
   "execution_count": 3,
   "metadata": {
    "executionInfo": {
     "elapsed": 7,
     "status": "ok",
     "timestamp": 1626274964431,
     "user": {
      "displayName": "Nouman Amir",
      "photoUrl": "https://lh3.googleusercontent.com/a-/AOh14Gg1u5BTmPQfs7QYt7jASEnXne4iwgmh8iuKK_IgzA=s64",
      "userId": "01914838424733888905"
     },
     "user_tz": -300
    },
    "id": "hw7LciGfhDwe"
   },
   "outputs": [],
   "source": [
    "import jovian"
   ]
  },
  {
   "cell_type": "code",
   "execution_count": 4,
   "metadata": {
    "colab": {
     "base_uri": "https://localhost:8080/",
     "height": 120
    },
    "executionInfo": {
     "elapsed": 39212,
     "status": "ok",
     "timestamp": 1626275006134,
     "user": {
      "displayName": "Nouman Amir",
      "photoUrl": "https://lh3.googleusercontent.com/a-/AOh14Gg1u5BTmPQfs7QYt7jASEnXne4iwgmh8iuKK_IgzA=s64",
      "userId": "01914838424733888905"
     },
     "user_tz": -300
    },
    "id": "FQ_qdzGnhDwg",
    "outputId": "6abc8f7d-d1e6-47db-e205-de6f1c4bb192"
   },
   "outputs": [
    {
     "name": "stdout",
     "output_type": "stream",
     "text": [
      "[jovian] Detected Colab notebook...\u001b[0m\n",
      "[jovian] Please enter your API key ( from https://jovian.ai/ ):\u001b[0m\n",
      "API KEY: ··········\n",
      "[jovian] Uploading colab notebook to Jovian...\u001b[0m\n",
      "Committed successfully! https://jovian.ai/noumanamir453/linear-regression-scratch\n"
     ]
    },
    {
     "data": {
      "application/vnd.google.colaboratory.intrinsic+json": {
       "type": "string"
      },
      "text/plain": [
       "'https://jovian.ai/noumanamir453/linear-regression-scratch'"
      ]
     },
     "execution_count": 4,
     "metadata": {
      "tags": []
     },
     "output_type": "execute_result"
    }
   ],
   "source": [
    "# Execute this to save new versions of the notebook\n",
    "jovian.commit(project=\"linear-regression-scratch\")"
   ]
  },
  {
   "cell_type": "code",
   "execution_count": 5,
   "metadata": {
    "executionInfo": {
     "elapsed": 4441,
     "status": "ok",
     "timestamp": 1626275037071,
     "user": {
      "displayName": "Nouman Amir",
      "photoUrl": "https://lh3.googleusercontent.com/a-/AOh14Gg1u5BTmPQfs7QYt7jASEnXne4iwgmh8iuKK_IgzA=s64",
      "userId": "01914838424733888905"
     },
     "user_tz": -300
    },
    "id": "AMQj5oqKhDwh"
   },
   "outputs": [],
   "source": [
    "import numpy as np\n",
    "import torch"
   ]
  },
  {
   "cell_type": "code",
   "execution_count": 6,
   "metadata": {
    "executionInfo": {
     "elapsed": 411,
     "status": "ok",
     "timestamp": 1626275048507,
     "user": {
      "displayName": "Nouman Amir",
      "photoUrl": "https://lh3.googleusercontent.com/a-/AOh14Gg1u5BTmPQfs7QYt7jASEnXne4iwgmh8iuKK_IgzA=s64",
      "userId": "01914838424733888905"
     },
     "user_tz": -300
    },
    "id": "-AEv4Yuii8Uj"
   },
   "outputs": [],
   "source": [
    "# Input (temp, rainfall, humidity)\n",
    "inputs = np.array([[73, 67, 43], \n",
    "                   [91, 88, 64], \n",
    "                   [87, 134, 58], \n",
    "                   [102, 43, 37], \n",
    "                   [69, 96, 70]], dtype='float32')"
   ]
  },
  {
   "cell_type": "code",
   "execution_count": 7,
   "metadata": {
    "executionInfo": {
     "elapsed": 1709,
     "status": "ok",
     "timestamp": 1626275056467,
     "user": {
      "displayName": "Nouman Amir",
      "photoUrl": "https://lh3.googleusercontent.com/a-/AOh14Gg1u5BTmPQfs7QYt7jASEnXne4iwgmh8iuKK_IgzA=s64",
      "userId": "01914838424733888905"
     },
     "user_tz": -300
    },
    "id": "OtIVOribi--5"
   },
   "outputs": [],
   "source": [
    "# Targets (apples, oranges)\n",
    "targets = np.array([[56, 70], \n",
    "                    [81, 101], \n",
    "                    [119, 133], \n",
    "                    [22, 37], \n",
    "                    [103, 119]], dtype='float32')"
   ]
  },
  {
   "cell_type": "code",
   "execution_count": 8,
   "metadata": {
    "colab": {
     "base_uri": "https://localhost:8080/"
    },
    "executionInfo": {
     "elapsed": 349,
     "status": "ok",
     "timestamp": 1626275064829,
     "user": {
      "displayName": "Nouman Amir",
      "photoUrl": "https://lh3.googleusercontent.com/a-/AOh14Gg1u5BTmPQfs7QYt7jASEnXne4iwgmh8iuKK_IgzA=s64",
      "userId": "01914838424733888905"
     },
     "user_tz": -300
    },
    "id": "2kyYi9_ZjA44",
    "outputId": "51fbc4f6-fd9c-4b9b-8009-3f33724145a8"
   },
   "outputs": [
    {
     "name": "stdout",
     "output_type": "stream",
     "text": [
      "tensor([[ 73.,  67.,  43.],\n",
      "        [ 91.,  88.,  64.],\n",
      "        [ 87., 134.,  58.],\n",
      "        [102.,  43.,  37.],\n",
      "        [ 69.,  96.,  70.]])\n",
      "tensor([[ 56.,  70.],\n",
      "        [ 81., 101.],\n",
      "        [119., 133.],\n",
      "        [ 22.,  37.],\n",
      "        [103., 119.]])\n"
     ]
    }
   ],
   "source": [
    "# Convert inputs and targets to tensors\n",
    "inputs = torch.from_numpy(inputs)\n",
    "targets = torch.from_numpy(targets)\n",
    "print(inputs)\n",
    "print(targets)"
   ]
  },
  {
   "cell_type": "code",
   "execution_count": 9,
   "metadata": {
    "colab": {
     "base_uri": "https://localhost:8080/"
    },
    "executionInfo": {
     "elapsed": 414,
     "status": "ok",
     "timestamp": 1626275075166,
     "user": {
      "displayName": "Nouman Amir",
      "photoUrl": "https://lh3.googleusercontent.com/a-/AOh14Gg1u5BTmPQfs7QYt7jASEnXne4iwgmh8iuKK_IgzA=s64",
      "userId": "01914838424733888905"
     },
     "user_tz": -300
    },
    "id": "4B0cawxWjDUd",
    "outputId": "836602e8-e33a-4644-b78a-e27d5cd11afd"
   },
   "outputs": [
    {
     "name": "stdout",
     "output_type": "stream",
     "text": [
      "tensor([[ 0.4817,  1.0180, -0.5328],\n",
      "        [-0.6217,  0.6688,  1.4667]], requires_grad=True)\n",
      "tensor([-0.0637,  1.5113], requires_grad=True)\n"
     ]
    }
   ],
   "source": [
    "# Weights and biases\n",
    "w = torch.randn(2, 3, requires_grad=True)\n",
    "b = torch.randn(2, requires_grad=True)\n",
    "print(w)\n",
    "print(b)"
   ]
  },
  {
   "cell_type": "code",
   "execution_count": 10,
   "metadata": {
    "executionInfo": {
     "elapsed": 347,
     "status": "ok",
     "timestamp": 1626275180287,
     "user": {
      "displayName": "Nouman Amir",
      "photoUrl": "https://lh3.googleusercontent.com/a-/AOh14Gg1u5BTmPQfs7QYt7jASEnXne4iwgmh8iuKK_IgzA=s64",
      "userId": "01914838424733888905"
     },
     "user_tz": -300
    },
    "id": "R-bEt7rkjFzK"
   },
   "outputs": [],
   "source": [
    "def model(x):\n",
    "    return x @ w.t() + b"
   ]
  },
  {
   "cell_type": "code",
   "execution_count": 11,
   "metadata": {
    "executionInfo": {
     "elapsed": 360,
     "status": "ok",
     "timestamp": 1626275191626,
     "user": {
      "displayName": "Nouman Amir",
      "photoUrl": "https://lh3.googleusercontent.com/a-/AOh14Gg1u5BTmPQfs7QYt7jASEnXne4iwgmh8iuKK_IgzA=s64",
      "userId": "01914838424733888905"
     },
     "user_tz": -300
    },
    "id": "fLqqwC5VjfTI"
   },
   "outputs": [],
   "source": [
    "# MSE loss\n",
    "def mse(t1, t2):\n",
    "    diff = t1 - t2\n",
    "    return torch.sum(diff * diff) / diff.numel()"
   ]
  },
  {
   "cell_type": "code",
   "execution_count": 12,
   "metadata": {
    "colab": {
     "base_uri": "https://localhost:8080/"
    },
    "executionInfo": {
     "elapsed": 570,
     "status": "ok",
     "timestamp": 1626275239930,
     "user": {
      "displayName": "Nouman Amir",
      "photoUrl": "https://lh3.googleusercontent.com/a-/AOh14Gg1u5BTmPQfs7QYt7jASEnXne4iwgmh8iuKK_IgzA=s64",
      "userId": "01914838424733888905"
     },
     "user_tz": -300
    },
    "id": "cJ2LEpjajlRk",
    "outputId": "6653d6c9-8964-46c8-db2e-5960904cd837"
   },
   "outputs": [
    {
     "name": "stdout",
     "output_type": "stream",
     "text": [
      "tensor([[ 80.3937,  64.0028],\n",
      "        [ 99.2532,  97.6575],\n",
      "        [147.3513, 122.1067],\n",
      "        [ 73.1263,  21.1225],\n",
      "        [ 93.6041, 125.4857]], grad_fn=<AddBackward0>)\n"
     ]
    }
   ],
   "source": [
    "# Generate predictions\n",
    "preds = model(inputs)\n",
    "print(preds)"
   ]
  },
  {
   "cell_type": "code",
   "execution_count": 13,
   "metadata": {
    "colab": {
     "base_uri": "https://localhost:8080/"
    },
    "executionInfo": {
     "elapsed": 370,
     "status": "ok",
     "timestamp": 1626275279711,
     "user": {
      "displayName": "Nouman Amir",
      "photoUrl": "https://lh3.googleusercontent.com/a-/AOh14Gg1u5BTmPQfs7QYt7jASEnXne4iwgmh8iuKK_IgzA=s64",
      "userId": "01914838424733888905"
     },
     "user_tz": -300
    },
    "id": "iq7vlDwojueg",
    "outputId": "2de6b816-e957-4ddf-a8cc-4f8620255850"
   },
   "outputs": [
    {
     "name": "stdout",
     "output_type": "stream",
     "text": [
      "tensor(489.4172, grad_fn=<DivBackward0>)\n"
     ]
    }
   ],
   "source": [
    "# Calculate the loss\n",
    "loss = mse(preds, targets)\n",
    "print(loss)"
   ]
  },
  {
   "cell_type": "code",
   "execution_count": 14,
   "metadata": {
    "colab": {
     "base_uri": "https://localhost:8080/"
    },
    "executionInfo": {
     "elapsed": 335,
     "status": "ok",
     "timestamp": 1626275338330,
     "user": {
      "displayName": "Nouman Amir",
      "photoUrl": "https://lh3.googleusercontent.com/a-/AOh14Gg1u5BTmPQfs7QYt7jASEnXne4iwgmh8iuKK_IgzA=s64",
      "userId": "01914838424733888905"
     },
     "user_tz": -300
    },
    "id": "Vq87rPF6j4GY",
    "outputId": "4df08007-5022-48c1-80d7-803f3ad12453"
   },
   "outputs": [
    {
     "name": "stdout",
     "output_type": "stream",
     "text": [
      "tensor([[2094.9810, 1667.2301, 1019.0930],\n",
      "        [-572.3353, -443.1526, -247.4160]])\n",
      "tensor([22.5457, -5.9250])\n"
     ]
    }
   ],
   "source": [
    "# Compute gradients\n",
    "loss.backward()\n",
    "print(w.grad)\n",
    "print(b.grad)"
   ]
  },
  {
   "cell_type": "code",
   "execution_count": 15,
   "metadata": {
    "executionInfo": {
     "elapsed": 339,
     "status": "ok",
     "timestamp": 1626275408455,
     "user": {
      "displayName": "Nouman Amir",
      "photoUrl": "https://lh3.googleusercontent.com/a-/AOh14Gg1u5BTmPQfs7QYt7jASEnXne4iwgmh8iuKK_IgzA=s64",
      "userId": "01914838424733888905"
     },
     "user_tz": -300
    },
    "id": "Q9_qx3IdkFzJ"
   },
   "outputs": [],
   "source": [
    "# Adjust weights & reset gradients\n",
    "with torch.no_grad():\n",
    "    w -= w.grad * 1e-5\n",
    "    b -= b.grad * 1e-5\n",
    "    w.grad.zero_()\n",
    "    b.grad.zero_()"
   ]
  },
  {
   "cell_type": "code",
   "execution_count": 16,
   "metadata": {
    "colab": {
     "base_uri": "https://localhost:8080/"
    },
    "executionInfo": {
     "elapsed": 330,
     "status": "ok",
     "timestamp": 1626275455645,
     "user": {
      "displayName": "Nouman Amir",
      "photoUrl": "https://lh3.googleusercontent.com/a-/AOh14Gg1u5BTmPQfs7QYt7jASEnXne4iwgmh8iuKK_IgzA=s64",
      "userId": "01914838424733888905"
     },
     "user_tz": -300
    },
    "id": "pMzdS5cxkW7-",
    "outputId": "fc2f8fad-b025-4a69-be62-e338e85e8523"
   },
   "outputs": [
    {
     "name": "stdout",
     "output_type": "stream",
     "text": [
      "tensor([[ 0.4607,  1.0013, -0.5430],\n",
      "        [-0.6160,  0.6732,  1.4692]], requires_grad=True)\n",
      "tensor([-0.0639,  1.5113], requires_grad=True)\n"
     ]
    }
   ],
   "source": [
    "# new weights and biases\n",
    "print(w)\n",
    "print(b)"
   ]
  },
  {
   "cell_type": "code",
   "execution_count": 17,
   "metadata": {
    "colab": {
     "base_uri": "https://localhost:8080/"
    },
    "executionInfo": {
     "elapsed": 405,
     "status": "ok",
     "timestamp": 1626275504079,
     "user": {
      "displayName": "Nouman Amir",
      "photoUrl": "https://lh3.googleusercontent.com/a-/AOh14Gg1u5BTmPQfs7QYt7jASEnXne4iwgmh8iuKK_IgzA=s64",
      "userId": "01914838424733888905"
     },
     "user_tz": -300
    },
    "id": "yZgLU2cDkimN",
    "outputId": "4e973fca-5cb1-4507-8cb1-fcf6510d6e6c"
   },
   "outputs": [
    {
     "name": "stdout",
     "output_type": "stream",
     "text": [
      "tensor(409.1872, grad_fn=<DivBackward0>)\n"
     ]
    }
   ],
   "source": [
    "# Calculate loss\n",
    "preds = model(inputs)\n",
    "loss = mse(preds, targets)\n",
    "print(loss)"
   ]
  },
  {
   "cell_type": "code",
   "execution_count": 18,
   "metadata": {
    "executionInfo": {
     "elapsed": 336,
     "status": "ok",
     "timestamp": 1626275534175,
     "user": {
      "displayName": "Nouman Amir",
      "photoUrl": "https://lh3.googleusercontent.com/a-/AOh14Gg1u5BTmPQfs7QYt7jASEnXne4iwgmh8iuKK_IgzA=s64",
      "userId": "01914838424733888905"
     },
     "user_tz": -300
    },
    "id": "ErS8vXuYkwWg"
   },
   "outputs": [],
   "source": [
    "# Train for 100 epochs\n",
    "for i in range(100):\n",
    "    preds = model(inputs)\n",
    "    loss = mse(preds, targets)\n",
    "    loss.backward()\n",
    "    with torch.no_grad():\n",
    "        w -= w.grad * 1e-5\n",
    "        b -= b.grad * 1e-5\n",
    "        w.grad.zero_()\n",
    "        b.grad.zero_()"
   ]
  },
  {
   "cell_type": "code",
   "execution_count": 19,
   "metadata": {
    "colab": {
     "base_uri": "https://localhost:8080/"
    },
    "executionInfo": {
     "elapsed": 343,
     "status": "ok",
     "timestamp": 1626275543214,
     "user": {
      "displayName": "Nouman Amir",
      "photoUrl": "https://lh3.googleusercontent.com/a-/AOh14Gg1u5BTmPQfs7QYt7jASEnXne4iwgmh8iuKK_IgzA=s64",
      "userId": "01914838424733888905"
     },
     "user_tz": -300
    },
    "id": "gMUMtLUak1ww",
    "outputId": "9fe4f2b8-6512-4a62-d64c-61de65303b29"
   },
   "outputs": [
    {
     "name": "stdout",
     "output_type": "stream",
     "text": [
      "tensor(127.2715, grad_fn=<DivBackward0>)\n"
     ]
    }
   ],
   "source": [
    "# Calculate loss\n",
    "preds = model(inputs)\n",
    "loss = mse(preds, targets)\n",
    "print(loss)"
   ]
  },
  {
   "cell_type": "code",
   "execution_count": 20,
   "metadata": {
    "colab": {
     "base_uri": "https://localhost:8080/"
    },
    "executionInfo": {
     "elapsed": 334,
     "status": "ok",
     "timestamp": 1626275559477,
     "user": {
      "displayName": "Nouman Amir",
      "photoUrl": "https://lh3.googleusercontent.com/a-/AOh14Gg1u5BTmPQfs7QYt7jASEnXne4iwgmh8iuKK_IgzA=s64",
      "userId": "01914838424733888905"
     },
     "user_tz": -300
    },
    "id": "APNSVTCak5Lk",
    "outputId": "41c71097-ea02-4cca-803c-41954192c11d"
   },
   "outputs": [
    {
     "data": {
      "text/plain": [
       "tensor([[ 60.8424,  69.2980],\n",
       "        [ 75.8345, 103.7808],\n",
       "        [127.2738, 127.5140],\n",
       "        [ 41.6267,  30.0515],\n",
       "        [ 78.8321, 128.9112]], grad_fn=<AddBackward0>)"
      ]
     },
     "execution_count": 20,
     "metadata": {
      "tags": []
     },
     "output_type": "execute_result"
    }
   ],
   "source": [
    "# Predictions\n",
    "preds"
   ]
  },
  {
   "cell_type": "code",
   "execution_count": 21,
   "metadata": {
    "colab": {
     "base_uri": "https://localhost:8080/"
    },
    "executionInfo": {
     "elapsed": 340,
     "status": "ok",
     "timestamp": 1626275570879,
     "user": {
      "displayName": "Nouman Amir",
      "photoUrl": "https://lh3.googleusercontent.com/a-/AOh14Gg1u5BTmPQfs7QYt7jASEnXne4iwgmh8iuKK_IgzA=s64",
      "userId": "01914838424733888905"
     },
     "user_tz": -300
    },
    "id": "qa9ToIdFk8G8",
    "outputId": "698ed281-4ddd-4b2e-d17e-79d7dba01420"
   },
   "outputs": [
    {
     "data": {
      "text/plain": [
       "tensor([[ 56.,  70.],\n",
       "        [ 81., 101.],\n",
       "        [119., 133.],\n",
       "        [ 22.,  37.],\n",
       "        [103., 119.]])"
      ]
     },
     "execution_count": 21,
     "metadata": {
      "tags": []
     },
     "output_type": "execute_result"
    }
   ],
   "source": [
    "# Targets\n",
    "targets"
   ]
  },
  {
   "cell_type": "code",
   "execution_count": null,
   "metadata": {
    "id": "Yfm_B7XVk-49"
   },
   "outputs": [],
   "source": [
    "jovian.commit"
   ]
  }
 ],
 "metadata": {
  "colab": {
   "name": "linear-regression-scratch.ipynb",
   "provenance": []
  },
  "language_info": {
   "codemirror_mode": {
    "name": "ipython",
    "version": 3
   },
   "file_extension": ".py",
   "mimetype": "text/x-python",
   "name": "python",
   "nbconvert_exporter": "python",
   "pygments_lexer": "ipython3",
   "version": "3.9.5"
  }
 },
 "nbformat": 4,
 "nbformat_minor": 0
}